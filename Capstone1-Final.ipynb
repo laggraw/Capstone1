{
 "cells": [
  {
   "cell_type": "code",
   "execution_count": 1,
   "id": "2d5ef662",
   "metadata": {},
   "outputs": [],
   "source": [
    "#importing all necessary libraries\n",
    "import pandas as pd\n",
    "import numpy as np\n",
    "import matplotlib.pyplot as plt\n",
    "import seaborn as sns\n",
    "import warnings\n",
    "warnings.filterwarnings(\"ignore\")"
   ]
  },
  {
   "cell_type": "code",
   "execution_count": 2,
   "id": "4a37862c",
   "metadata": {},
   "outputs": [],
   "source": [
    "from IPython.core.interactiveshell import InteractiveShell\n",
    "InteractiveShell.ast_node_interactivity = \"all\""
   ]
  },
  {
   "cell_type": "code",
   "execution_count": 3,
   "id": "838a58db",
   "metadata": {},
   "outputs": [],
   "source": [
    "data = pd.read_csv(\n",
    "    \"E:\\\\Statistics\\\\Capstone\\\\Capstone_data_modification\\\\lalit_data.csv\")"
   ]
  },
  {
   "cell_type": "code",
   "execution_count": 4,
   "id": "f7f04407",
   "metadata": {},
   "outputs": [
    {
     "data": {
      "text/html": [
       "<div>\n",
       "<style scoped>\n",
       "    .dataframe tbody tr th:only-of-type {\n",
       "        vertical-align: middle;\n",
       "    }\n",
       "\n",
       "    .dataframe tbody tr th {\n",
       "        vertical-align: top;\n",
       "    }\n",
       "\n",
       "    .dataframe thead th {\n",
       "        text-align: right;\n",
       "    }\n",
       "</style>\n",
       "<table border=\"1\" class=\"dataframe\">\n",
       "  <thead>\n",
       "    <tr style=\"text-align: right;\">\n",
       "      <th></th>\n",
       "      <th>Sales</th>\n",
       "      <th>Account_usage_data</th>\n",
       "      <th>Customer_segment</th>\n",
       "      <th>Misaligned_incentives</th>\n",
       "      <th>Employee_performance</th>\n",
       "      <th>Customer_feedback</th>\n",
       "      <th>points_of_improvement</th>\n",
       "      <th>compliance</th>\n",
       "      <th>retail_acc_setup_errrate</th>\n",
       "      <th>avg_time_to_close_issues</th>\n",
       "      <th>...</th>\n",
       "      <th>Target</th>\n",
       "      <th>balance</th>\n",
       "      <th>income_levels</th>\n",
       "      <th>tenure_with_bank</th>\n",
       "      <th>credit_score</th>\n",
       "      <th>age</th>\n",
       "      <th>prod_id</th>\n",
       "      <th>prod_sell_count</th>\n",
       "      <th>prod_sell_perf</th>\n",
       "      <th>prod_price</th>\n",
       "    </tr>\n",
       "  </thead>\n",
       "  <tbody>\n",
       "    <tr>\n",
       "      <th>0</th>\n",
       "      <td>624</td>\n",
       "      <td>1</td>\n",
       "      <td>3</td>\n",
       "      <td>1</td>\n",
       "      <td>3</td>\n",
       "      <td>1</td>\n",
       "      <td>6</td>\n",
       "      <td>3</td>\n",
       "      <td>17</td>\n",
       "      <td>19</td>\n",
       "      <td>...</td>\n",
       "      <td>0</td>\n",
       "      <td>8405804</td>\n",
       "      <td>3018313</td>\n",
       "      <td>18</td>\n",
       "      <td>853</td>\n",
       "      <td>33</td>\n",
       "      <td>2</td>\n",
       "      <td>0</td>\n",
       "      <td>0</td>\n",
       "      <td>6291</td>\n",
       "    </tr>\n",
       "    <tr>\n",
       "      <th>1</th>\n",
       "      <td>986</td>\n",
       "      <td>0</td>\n",
       "      <td>1</td>\n",
       "      <td>3</td>\n",
       "      <td>3</td>\n",
       "      <td>2</td>\n",
       "      <td>6</td>\n",
       "      <td>4</td>\n",
       "      <td>27</td>\n",
       "      <td>27</td>\n",
       "      <td>...</td>\n",
       "      <td>1</td>\n",
       "      <td>1564405</td>\n",
       "      <td>728580</td>\n",
       "      <td>15</td>\n",
       "      <td>815</td>\n",
       "      <td>31</td>\n",
       "      <td>7</td>\n",
       "      <td>0</td>\n",
       "      <td>1</td>\n",
       "      <td>248000</td>\n",
       "    </tr>\n",
       "    <tr>\n",
       "      <th>2</th>\n",
       "      <td>361</td>\n",
       "      <td>0</td>\n",
       "      <td>3</td>\n",
       "      <td>5</td>\n",
       "      <td>2</td>\n",
       "      <td>1</td>\n",
       "      <td>7</td>\n",
       "      <td>2</td>\n",
       "      <td>5</td>\n",
       "      <td>38</td>\n",
       "      <td>...</td>\n",
       "      <td>0</td>\n",
       "      <td>2295104</td>\n",
       "      <td>2786608</td>\n",
       "      <td>6</td>\n",
       "      <td>668</td>\n",
       "      <td>48</td>\n",
       "      <td>6</td>\n",
       "      <td>0</td>\n",
       "      <td>0</td>\n",
       "      <td>189022</td>\n",
       "    </tr>\n",
       "    <tr>\n",
       "      <th>3</th>\n",
       "      <td>575</td>\n",
       "      <td>1</td>\n",
       "      <td>2</td>\n",
       "      <td>5</td>\n",
       "      <td>3</td>\n",
       "      <td>7</td>\n",
       "      <td>8</td>\n",
       "      <td>3</td>\n",
       "      <td>28</td>\n",
       "      <td>27</td>\n",
       "      <td>...</td>\n",
       "      <td>0</td>\n",
       "      <td>5237699</td>\n",
       "      <td>3587506</td>\n",
       "      <td>15</td>\n",
       "      <td>459</td>\n",
       "      <td>60</td>\n",
       "      <td>4</td>\n",
       "      <td>0</td>\n",
       "      <td>1</td>\n",
       "      <td>21825</td>\n",
       "    </tr>\n",
       "    <tr>\n",
       "      <th>4</th>\n",
       "      <td>516</td>\n",
       "      <td>1</td>\n",
       "      <td>4</td>\n",
       "      <td>1</td>\n",
       "      <td>3</td>\n",
       "      <td>5</td>\n",
       "      <td>4</td>\n",
       "      <td>1</td>\n",
       "      <td>15</td>\n",
       "      <td>18</td>\n",
       "      <td>...</td>\n",
       "      <td>1</td>\n",
       "      <td>8302403</td>\n",
       "      <td>3036293</td>\n",
       "      <td>18</td>\n",
       "      <td>754</td>\n",
       "      <td>38</td>\n",
       "      <td>4</td>\n",
       "      <td>1</td>\n",
       "      <td>0</td>\n",
       "      <td>21825</td>\n",
       "    </tr>\n",
       "  </tbody>\n",
       "</table>\n",
       "<p>5 rows × 21 columns</p>\n",
       "</div>"
      ],
      "text/plain": [
       "   Sales  Account_usage_data  Customer_segment  Misaligned_incentives  \\\n",
       "0    624                   1                 3                      1   \n",
       "1    986                   0                 1                      3   \n",
       "2    361                   0                 3                      5   \n",
       "3    575                   1                 2                      5   \n",
       "4    516                   1                 4                      1   \n",
       "\n",
       "   Employee_performance  Customer_feedback  points_of_improvement  compliance  \\\n",
       "0                     3                  1                      6           3   \n",
       "1                     3                  2                      6           4   \n",
       "2                     2                  1                      7           2   \n",
       "3                     3                  7                      8           3   \n",
       "4                     3                  5                      4           1   \n",
       "\n",
       "   retail_acc_setup_errrate  avg_time_to_close_issues  ...  Target  balance  \\\n",
       "0                        17                        19  ...       0  8405804   \n",
       "1                        27                        27  ...       1  1564405   \n",
       "2                         5                        38  ...       0  2295104   \n",
       "3                        28                        27  ...       0  5237699   \n",
       "4                        15                        18  ...       1  8302403   \n",
       "\n",
       "   income_levels  tenure_with_bank  credit_score  age  prod_id  \\\n",
       "0        3018313                18           853   33        2   \n",
       "1         728580                15           815   31        7   \n",
       "2        2786608                 6           668   48        6   \n",
       "3        3587506                15           459   60        4   \n",
       "4        3036293                18           754   38        4   \n",
       "\n",
       "   prod_sell_count  prod_sell_perf  prod_price  \n",
       "0                0               0        6291  \n",
       "1                0               1      248000  \n",
       "2                0               0      189022  \n",
       "3                0               1       21825  \n",
       "4                1               0       21825  \n",
       "\n",
       "[5 rows x 21 columns]"
      ]
     },
     "execution_count": 4,
     "metadata": {},
     "output_type": "execute_result"
    }
   ],
   "source": [
    "data.head()"
   ]
  },
  {
   "cell_type": "code",
   "execution_count": 5,
   "id": "d52bfb61",
   "metadata": {},
   "outputs": [
    {
     "data": {
      "text/html": [
       "<div>\n",
       "<style scoped>\n",
       "    .dataframe tbody tr th:only-of-type {\n",
       "        vertical-align: middle;\n",
       "    }\n",
       "\n",
       "    .dataframe tbody tr th {\n",
       "        vertical-align: top;\n",
       "    }\n",
       "\n",
       "    .dataframe thead th {\n",
       "        text-align: right;\n",
       "    }\n",
       "</style>\n",
       "<table border=\"1\" class=\"dataframe\">\n",
       "  <thead>\n",
       "    <tr style=\"text-align: right;\">\n",
       "      <th></th>\n",
       "      <th>Sales</th>\n",
       "      <th>Account_usage_data</th>\n",
       "      <th>Customer_segment</th>\n",
       "      <th>Misaligned_incentives</th>\n",
       "      <th>Employee_performance</th>\n",
       "      <th>Customer_feedback</th>\n",
       "      <th>points_of_improvement</th>\n",
       "      <th>compliance</th>\n",
       "      <th>retail_acc_setup_errrate</th>\n",
       "      <th>avg_time_to_close_issues</th>\n",
       "      <th>...</th>\n",
       "      <th>Target</th>\n",
       "      <th>balance</th>\n",
       "      <th>income_levels</th>\n",
       "      <th>tenure_with_bank</th>\n",
       "      <th>credit_score</th>\n",
       "      <th>age</th>\n",
       "      <th>prod_id</th>\n",
       "      <th>prod_sell_count</th>\n",
       "      <th>prod_sell_perf</th>\n",
       "      <th>prod_price</th>\n",
       "    </tr>\n",
       "  </thead>\n",
       "  <tbody>\n",
       "    <tr>\n",
       "      <th>0</th>\n",
       "      <td>624</td>\n",
       "      <td>1</td>\n",
       "      <td>3</td>\n",
       "      <td>1</td>\n",
       "      <td>3</td>\n",
       "      <td>1</td>\n",
       "      <td>6</td>\n",
       "      <td>3</td>\n",
       "      <td>17</td>\n",
       "      <td>19</td>\n",
       "      <td>...</td>\n",
       "      <td>0</td>\n",
       "      <td>8405804</td>\n",
       "      <td>3018313</td>\n",
       "      <td>18</td>\n",
       "      <td>853</td>\n",
       "      <td>33</td>\n",
       "      <td>2</td>\n",
       "      <td>0</td>\n",
       "      <td>0</td>\n",
       "      <td>6291</td>\n",
       "    </tr>\n",
       "    <tr>\n",
       "      <th>1</th>\n",
       "      <td>986</td>\n",
       "      <td>0</td>\n",
       "      <td>1</td>\n",
       "      <td>3</td>\n",
       "      <td>3</td>\n",
       "      <td>2</td>\n",
       "      <td>6</td>\n",
       "      <td>4</td>\n",
       "      <td>27</td>\n",
       "      <td>27</td>\n",
       "      <td>...</td>\n",
       "      <td>1</td>\n",
       "      <td>1564405</td>\n",
       "      <td>728580</td>\n",
       "      <td>15</td>\n",
       "      <td>815</td>\n",
       "      <td>31</td>\n",
       "      <td>7</td>\n",
       "      <td>0</td>\n",
       "      <td>1</td>\n",
       "      <td>248000</td>\n",
       "    </tr>\n",
       "    <tr>\n",
       "      <th>2</th>\n",
       "      <td>361</td>\n",
       "      <td>0</td>\n",
       "      <td>3</td>\n",
       "      <td>5</td>\n",
       "      <td>2</td>\n",
       "      <td>1</td>\n",
       "      <td>7</td>\n",
       "      <td>2</td>\n",
       "      <td>5</td>\n",
       "      <td>38</td>\n",
       "      <td>...</td>\n",
       "      <td>0</td>\n",
       "      <td>2295104</td>\n",
       "      <td>2786608</td>\n",
       "      <td>6</td>\n",
       "      <td>668</td>\n",
       "      <td>48</td>\n",
       "      <td>6</td>\n",
       "      <td>0</td>\n",
       "      <td>0</td>\n",
       "      <td>189022</td>\n",
       "    </tr>\n",
       "    <tr>\n",
       "      <th>3</th>\n",
       "      <td>575</td>\n",
       "      <td>1</td>\n",
       "      <td>2</td>\n",
       "      <td>5</td>\n",
       "      <td>3</td>\n",
       "      <td>7</td>\n",
       "      <td>8</td>\n",
       "      <td>3</td>\n",
       "      <td>28</td>\n",
       "      <td>27</td>\n",
       "      <td>...</td>\n",
       "      <td>0</td>\n",
       "      <td>5237699</td>\n",
       "      <td>3587506</td>\n",
       "      <td>15</td>\n",
       "      <td>459</td>\n",
       "      <td>60</td>\n",
       "      <td>4</td>\n",
       "      <td>0</td>\n",
       "      <td>1</td>\n",
       "      <td>21825</td>\n",
       "    </tr>\n",
       "    <tr>\n",
       "      <th>4</th>\n",
       "      <td>516</td>\n",
       "      <td>1</td>\n",
       "      <td>4</td>\n",
       "      <td>1</td>\n",
       "      <td>3</td>\n",
       "      <td>5</td>\n",
       "      <td>4</td>\n",
       "      <td>1</td>\n",
       "      <td>15</td>\n",
       "      <td>18</td>\n",
       "      <td>...</td>\n",
       "      <td>1</td>\n",
       "      <td>8302403</td>\n",
       "      <td>3036293</td>\n",
       "      <td>18</td>\n",
       "      <td>754</td>\n",
       "      <td>38</td>\n",
       "      <td>4</td>\n",
       "      <td>1</td>\n",
       "      <td>0</td>\n",
       "      <td>21825</td>\n",
       "    </tr>\n",
       "  </tbody>\n",
       "</table>\n",
       "<p>5 rows × 21 columns</p>\n",
       "</div>"
      ],
      "text/plain": [
       "   Sales  Account_usage_data  Customer_segment  Misaligned_incentives  \\\n",
       "0    624                   1                 3                      1   \n",
       "1    986                   0                 1                      3   \n",
       "2    361                   0                 3                      5   \n",
       "3    575                   1                 2                      5   \n",
       "4    516                   1                 4                      1   \n",
       "\n",
       "   Employee_performance  Customer_feedback  points_of_improvement  compliance  \\\n",
       "0                     3                  1                      6           3   \n",
       "1                     3                  2                      6           4   \n",
       "2                     2                  1                      7           2   \n",
       "3                     3                  7                      8           3   \n",
       "4                     3                  5                      4           1   \n",
       "\n",
       "   retail_acc_setup_errrate  avg_time_to_close_issues  ...  Target  balance  \\\n",
       "0                        17                        19  ...       0  8405804   \n",
       "1                        27                        27  ...       1  1564405   \n",
       "2                         5                        38  ...       0  2295104   \n",
       "3                        28                        27  ...       0  5237699   \n",
       "4                        15                        18  ...       1  8302403   \n",
       "\n",
       "   income_levels  tenure_with_bank  credit_score  age  prod_id  \\\n",
       "0        3018313                18           853   33        2   \n",
       "1         728580                15           815   31        7   \n",
       "2        2786608                 6           668   48        6   \n",
       "3        3587506                15           459   60        4   \n",
       "4        3036293                18           754   38        4   \n",
       "\n",
       "   prod_sell_count  prod_sell_perf  prod_price  \n",
       "0                0               0        6291  \n",
       "1                0               1      248000  \n",
       "2                0               0      189022  \n",
       "3                0               1       21825  \n",
       "4                1               0       21825  \n",
       "\n",
       "[5 rows x 21 columns]"
      ]
     },
     "execution_count": 5,
     "metadata": {},
     "output_type": "execute_result"
    }
   ],
   "source": [
    "df = data.copy()\n",
    "df.head()"
   ]
  },
  {
   "cell_type": "code",
   "execution_count": 6,
   "id": "1e701630",
   "metadata": {},
   "outputs": [
    {
     "name": "stdout",
     "output_type": "stream",
     "text": [
      "<class 'pandas.core.frame.DataFrame'>\n",
      "RangeIndex: 1000 entries, 0 to 999\n",
      "Data columns (total 21 columns):\n",
      " #   Column                    Non-Null Count  Dtype\n",
      "---  ------                    --------------  -----\n",
      " 0   Sales                     1000 non-null   int64\n",
      " 1   Account_usage_data        1000 non-null   int64\n",
      " 2   Customer_segment          1000 non-null   int64\n",
      " 3   Misaligned_incentives     1000 non-null   int64\n",
      " 4   Employee_performance      1000 non-null   int64\n",
      " 5   Customer_feedback         1000 non-null   int64\n",
      " 6   points_of_improvement     1000 non-null   int64\n",
      " 7   compliance                1000 non-null   int64\n",
      " 8   retail_acc_setup_errrate  1000 non-null   int64\n",
      " 9   avg_time_to_close_issues  1000 non-null   int64\n",
      " 10  Emp_ID                    1000 non-null   int64\n",
      " 11  Target                    1000 non-null   int64\n",
      " 12  balance                   1000 non-null   int64\n",
      " 13  income_levels             1000 non-null   int64\n",
      " 14  tenure_with_bank          1000 non-null   int64\n",
      " 15  credit_score              1000 non-null   int64\n",
      " 16  age                       1000 non-null   int64\n",
      " 17  prod_id                   1000 non-null   int64\n",
      " 18  prod_sell_count           1000 non-null   int64\n",
      " 19  prod_sell_perf            1000 non-null   int64\n",
      " 20  prod_price                1000 non-null   int64\n",
      "dtypes: int64(21)\n",
      "memory usage: 164.2 KB\n"
     ]
    }
   ],
   "source": [
    "df.info()"
   ]
  },
  {
   "cell_type": "code",
   "execution_count": 7,
   "id": "d2de27e8",
   "metadata": {},
   "outputs": [
    {
     "data": {
      "text/plain": [
       "1    359\n",
       "3    250\n",
       "2    222\n",
       "4    149\n",
       "5     20\n",
       "Name: Customer_segment, dtype: int64"
      ]
     },
     "execution_count": 7,
     "metadata": {},
     "output_type": "execute_result"
    }
   ],
   "source": [
    "df['Customer_segment'].value_counts()"
   ]
  },
  {
   "cell_type": "code",
   "execution_count": 8,
   "id": "1ed5ec1d",
   "metadata": {},
   "outputs": [],
   "source": [
    "#Deriving Customer Segments based on factors: balance, income_levels, tenure_with_bank, credit_score, age\n",
    "for i,j in df.iterrows():\n",
    "  if (j['balance'] <= 1000000) | (j['income_levels'] <= 800000) | (j['tenure_with_bank'] <=5) & (j['credit_score']<= 500) | (j['age'] <= 27):\n",
    "    j['Customer_segment'] = 1\n",
    "  elif (1000000 > j['balance']<= 2000000) | (800000 > j['income_levels'] <= 1200000) |(5 > j['tenure_with_bank'] <=10) | (500 > j['credit_score'] <= 600) | ( 27> j['age'] <= 35) :\n",
    "    j['Customer_segment'] = 2\n",
    "  elif (2000000 > j['balance']<= 4000000) | (1200000 > j['income_levels'] <= 2000000) |(10 > j['tenure_with_bank'] <=20) | (600 > j['credit_score'] <= 750) | ( 35> j['age'] <= 45) :\n",
    "    j['Customer_segment'] = 3 \n",
    "  elif (4000000 > j['balance']<= 6000000) | (2000000 > j['income_levels'] <= 3000000) |(20 > j['tenure_with_bank'] <=30) | (750 > j['credit_score']<= 820) | ( 45> j['age'] <= 55) :\n",
    "    j['Customer_segment'] = 4\n",
    "  elif  (j['balance']> 6000000) | ( j['income_levels'] > 3000000 ) |(j['tenure_with_bank']> 30  ) | (j['credit_score']> 820) | ( j['age']>55 ) :\n",
    "    j['Customer_segment'] = 5"
   ]
  },
  {
   "cell_type": "code",
   "execution_count": 9,
   "id": "83f23a74",
   "metadata": {},
   "outputs": [
    {
     "data": {
      "text/plain": [
       "1    359\n",
       "3    250\n",
       "2    222\n",
       "4    149\n",
       "5     20\n",
       "Name: Customer_segment, dtype: int64"
      ]
     },
     "execution_count": 9,
     "metadata": {},
     "output_type": "execute_result"
    }
   ],
   "source": [
    "df['Customer_segment'].value_counts()"
   ]
  },
  {
   "cell_type": "code",
   "execution_count": 10,
   "id": "ecdc781d",
   "metadata": {},
   "outputs": [
    {
     "data": {
      "text/plain": [
       "<Figure size 576x432 with 0 Axes>"
      ]
     },
     "execution_count": 10,
     "metadata": {},
     "output_type": "execute_result"
    },
    {
     "data": {
      "text/plain": [
       "Text(0.5, 1.0, 'Customer Segment Count')"
      ]
     },
     "execution_count": 10,
     "metadata": {},
     "output_type": "execute_result"
    },
    {
     "data": {
      "text/plain": [
       "Text(0.5, 0, 'Customer Segment')"
      ]
     },
     "execution_count": 10,
     "metadata": {},
     "output_type": "execute_result"
    },
    {
     "data": {
      "text/plain": [
       "Text(0, 0.5, 'Count')"
      ]
     },
     "execution_count": 10,
     "metadata": {},
     "output_type": "execute_result"
    },
    {
     "data": {
      "text/plain": [
       "Text(0.0, 359.1, '359')"
      ]
     },
     "execution_count": 10,
     "metadata": {},
     "output_type": "execute_result"
    },
    {
     "data": {
      "text/plain": [
       "Text(1.0, 222.1, '222')"
      ]
     },
     "execution_count": 10,
     "metadata": {},
     "output_type": "execute_result"
    },
    {
     "data": {
      "text/plain": [
       "Text(2.0, 250.1, '250')"
      ]
     },
     "execution_count": 10,
     "metadata": {},
     "output_type": "execute_result"
    },
    {
     "data": {
      "text/plain": [
       "Text(3.0, 149.1, '149')"
      ]
     },
     "execution_count": 10,
     "metadata": {},
     "output_type": "execute_result"
    },
    {
     "data": {
      "text/plain": [
       "Text(4.0, 20.1, '20')"
      ]
     },
     "execution_count": 10,
     "metadata": {},
     "output_type": "execute_result"
    },
    {
     "data": {
      "image/png": "[encoded data removed]",
      "text/plain": [
       "<Figure size 576x432 with 1 Axes>"
      ]
     },
     "metadata": {
      "needs_background": "light"
     },
     "output_type": "display_data"
    }
   ],
   "source": [
    "labels = df['Customer_segment'].value_counts().index.sort_values()\n",
    "values = [len(df[df['Customer_segment']==1]), len(df[df['Customer_segment']==2]),len(df[df['Customer_segment']==3]),len(df[df['Customer_segment']==4]),\n",
    "          len(df[df['Customer_segment']==5])]\n",
    "plt.figure(figsize = (8,6))\n",
    "plt.title('Customer Segment Count')\n",
    "plt.xlabel('Customer Segment')\n",
    "plt.ylabel('Count')\n",
    "ax = sns.barplot(x =labels, y = values)\n",
    "for i,p in enumerate(ax.patches):\n",
    "  height = p.get_height()\n",
    "  ax.text(p.get_x()+p.get_width()/2., height +0.1, values[i], ha = \"center\")\n",
    "plt.savefig('Cust_Seg_count')"
   ]
  },
  {
   "cell_type": "code",
   "execution_count": 11,
   "id": "3566fcb3",
   "metadata": {},
   "outputs": [],
   "source": [
    "\n",
    "#Deriving Employee performance based on factors: points_of_improvement, retail_acc_setup_errrate, avg_time_to_close_issues and compliance\n",
    "\n",
    "for m,n in df.iterrows():\n",
    "  if ((n['points_of_improvement'] == 10) & (26 > n['retail_acc_setup_errrate'] <= 30)) & (65 > n['avg_time_to_close_issues'] <=72) & (n['compliance'] ==1):\n",
    "    n['Employee_performance']  = 1\n",
    "  elif ((8>= n['points_of_improvement'] <= 10) & (19 > n['retail_acc_setup_errrate'] <= 26)) & (55 > n['avg_time_to_close_issues'] <=65) & (n['compliance'] ==2):\n",
    "    n['Employee_performance']  = 2\n",
    "  elif ((6 >= n['points_of_improvement'] <= 7) | (16 >= n['retail_acc_setup_errrate'] <= 19)) | (45 > n['avg_time_to_close_issues'] <=55) | (n['compliance'] ==3):\n",
    "    n['Employee_performance']  = 3\n",
    "  elif ((4 >= n['points_of_improvement'] <= 5) | (10 > n['retail_acc_setup_errrate'] <= 15)) | (30 > n['avg_time_to_close_issues'] <=45) | (n['compliance'] ==4):\n",
    "    n['Employee_performance']  = 4\n",
    "  elif  (( n['points_of_improvement'] <=3 ) | (2>= n['retail_acc_setup_errrate'] <= 10)) | ( n['avg_time_to_close_issues'] <=30) | (n['compliance'] ==5):\n",
    "    n['Employee_performance']  = 5 \n"
   ]
  },
  {
   "cell_type": "code",
   "execution_count": 12,
   "id": "0280de8b",
   "metadata": {},
   "outputs": [
    {
     "data": {
      "text/plain": [
       "3    843\n",
       "2     79\n",
       "5     31\n",
       "1     24\n",
       "4     23\n",
       "Name: Employee_performance, dtype: int64"
      ]
     },
     "execution_count": 12,
     "metadata": {},
     "output_type": "execute_result"
    }
   ],
   "source": [
    "df['Employee_performance'].value_counts() "
   ]
  },
  {
   "cell_type": "code",
   "execution_count": 13,
   "id": "3e92e5b3",
   "metadata": {},
   "outputs": [
    {
     "data": {
      "text/plain": [
       "<Figure size 576x432 with 0 Axes>"
      ]
     },
     "execution_count": 13,
     "metadata": {},
     "output_type": "execute_result"
    },
    {
     "data": {
      "text/plain": [
       "Text(0.5, 1.0, 'Employee performance Count')"
      ]
     },
     "execution_count": 13,
     "metadata": {},
     "output_type": "execute_result"
    },
    {
     "data": {
      "text/plain": [
       "Text(0.5, 0, 'Employee Performance')"
      ]
     },
     "execution_count": 13,
     "metadata": {},
     "output_type": "execute_result"
    },
    {
     "data": {
      "text/plain": [
       "Text(0, 0.5, 'Count')"
      ]
     },
     "execution_count": 13,
     "metadata": {},
     "output_type": "execute_result"
    },
    {
     "data": {
      "text/plain": [
       "Text(0.0, 24.1, '24')"
      ]
     },
     "execution_count": 13,
     "metadata": {},
     "output_type": "execute_result"
    },
    {
     "data": {
      "text/plain": [
       "Text(1.0, 79.1, '79')"
      ]
     },
     "execution_count": 13,
     "metadata": {},
     "output_type": "execute_result"
    },
    {
     "data": {
      "text/plain": [
       "Text(2.0, 843.1, '843')"
      ]
     },
     "execution_count": 13,
     "metadata": {},
     "output_type": "execute_result"
    },
    {
     "data": {
      "text/plain": [
       "Text(3.0, 23.1, '23')"
      ]
     },
     "execution_count": 13,
     "metadata": {},
     "output_type": "execute_result"
    },
    {
     "data": {
      "text/plain": [
       "Text(4.0, 31.1, '31')"
      ]
     },
     "execution_count": 13,
     "metadata": {},
     "output_type": "execute_result"
    },
    {
     "data": {
      "image/png": "[encoded data removed]",
      "text/plain": [
       "<Figure size 576x432 with 1 Axes>"
      ]
     },
     "metadata": {
      "needs_background": "light"
     },
     "output_type": "display_data"
    }
   ],
   "source": [
    "labels = df['Employee_performance'].value_counts().index.sort_values()\n",
    "values = [len(df[df['Employee_performance']==1]), len(df[df['Employee_performance']==2]),len(df[df['Employee_performance']==3]),len(df[df['Employee_performance']==4]),\n",
    "          len(df[df['Employee_performance']==5])]\n",
    "plt.figure(figsize = (8,6))\n",
    "plt.title('Employee performance Count')\n",
    "plt.xlabel('Employee Performance')\n",
    "plt.ylabel('Count')\n",
    "ax = sns.barplot(x =labels, y = values)\n",
    "for i,p in enumerate(ax.patches):\n",
    "  height = p.get_height()\n",
    "  ax.text(p.get_x()+p.get_width()/2., height +0.1, values[i], ha = \"center\")\n",
    "plt.savefig('Emp_Perf_count')"
   ]
  },
  {
   "cell_type": "code",
   "execution_count": 14,
   "id": "a0bcf4a2",
   "metadata": {},
   "outputs": [],
   "source": [
    "#Deriving Product performance based on factors: prod_price, customer_segment, prod_sell_count, prod_sell_perf\n",
    "df['Product_performance'] = 0\n",
    "for a,b in df.iterrows():\n",
    "  if (b['prod_price'] <= 60000) & (b['Customer_segment'] <= 3) & (b['prod_sell_count'] <= 1) & (b['prod_sell_perf']<= 1) :\n",
    "     b['Product_performance'] = 1\n",
    "  elif (b['prod_price'] > 60000) & (b['Customer_segment'] >= 4) & (b['prod_sell_count'] <= 1) & (b['prod_sell_perf']<= 1) :\n",
    "     b['Product_performance'] = 1\n",
    "  else:\n",
    "      b['Product_performance'] = 0\n"
   ]
  },
  {
   "cell_type": "code",
   "execution_count": 15,
   "id": "f3fce9e1",
   "metadata": {},
   "outputs": [
    {
     "data": {
      "text/plain": [
       "1    625\n",
       "0    375\n",
       "Name: Product_performance, dtype: int64"
      ]
     },
     "execution_count": 15,
     "metadata": {},
     "output_type": "execute_result"
    }
   ],
   "source": [
    "df['Product_performance'].value_counts()"
   ]
  },
  {
   "cell_type": "code",
   "execution_count": 16,
   "id": "e5708227",
   "metadata": {},
   "outputs": [
    {
     "data": {
      "text/plain": [
       "<Figure size 576x432 with 0 Axes>"
      ]
     },
     "execution_count": 16,
     "metadata": {},
     "output_type": "execute_result"
    },
    {
     "data": {
      "text/plain": [
       "Text(0.5, 1.0, 'Product Performance Count')"
      ]
     },
     "execution_count": 16,
     "metadata": {},
     "output_type": "execute_result"
    },
    {
     "data": {
      "text/plain": [
       "Text(0.5, 0, 'Product Performance')"
      ]
     },
     "execution_count": 16,
     "metadata": {},
     "output_type": "execute_result"
    },
    {
     "data": {
      "text/plain": [
       "Text(0, 0.5, 'Count')"
      ]
     },
     "execution_count": 16,
     "metadata": {},
     "output_type": "execute_result"
    },
    {
     "data": {
      "text/plain": [
       "Text(0.0, 375.1, '375')"
      ]
     },
     "execution_count": 16,
     "metadata": {},
     "output_type": "execute_result"
    },
    {
     "data": {
      "text/plain": [
       "Text(1.0, 625.1, '625')"
      ]
     },
     "execution_count": 16,
     "metadata": {},
     "output_type": "execute_result"
    },
    {
     "data": {
      "image/png": "[encoded data removed]",
      "text/plain": [
       "<Figure size 576x432 with 1 Axes>"
      ]
     },
     "metadata": {
      "needs_background": "light"
     },
     "output_type": "display_data"
    }
   ],
   "source": [
    "plt.figure(figsize=(8,6))\n",
    "ax = sns.countplot(x=\"Product_performance\", data=df)\n",
    "plt.title('Product Performance Count')\n",
    "plt.xlabel('Product Performance')\n",
    "plt.ylabel('Count')\n",
    "i=0\n",
    "for p in ax.patches:\n",
    "    height = p.get_height()\n",
    "    ax.text(p.get_x()+p.get_width()/2., height + 0.1,\n",
    "        df['Product_performance'].value_counts()[i],ha=\"center\")\n",
    "    i += 1"
   ]
  },
  {
   "cell_type": "code",
   "execution_count": 17,
   "id": "605f571b",
   "metadata": {},
   "outputs": [
    {
     "data": {
      "text/plain": [
       "0    513\n",
       "1    487\n",
       "Name: Account_usage_data, dtype: int64"
      ]
     },
     "execution_count": 17,
     "metadata": {},
     "output_type": "execute_result"
    }
   ],
   "source": [
    "df.Account_usage_data.value_counts()"
   ]
  },
  {
   "cell_type": "code",
   "execution_count": 18,
   "id": "103c7944",
   "metadata": {},
   "outputs": [
    {
     "data": {
      "text/plain": [
       "1    214\n",
       "2    211\n",
       "4    208\n",
       "5    192\n",
       "3    175\n",
       "Name: Misaligned_incentives, dtype: int64"
      ]
     },
     "execution_count": 18,
     "metadata": {},
     "output_type": "execute_result"
    }
   ],
   "source": [
    "df.Misaligned_incentives.value_counts()"
   ]
  },
  {
   "cell_type": "code",
   "execution_count": 19,
   "id": "cdc37687",
   "metadata": {},
   "outputs": [
    {
     "data": {
      "text/plain": [
       "5     112\n",
       "9     112\n",
       "7     104\n",
       "10    104\n",
       "1     103\n",
       "6      99\n",
       "8      97\n",
       "2      93\n",
       "4      92\n",
       "3      84\n",
       "Name: Customer_feedback, dtype: int64"
      ]
     },
     "execution_count": 19,
     "metadata": {},
     "output_type": "execute_result"
    }
   ],
   "source": [
    "df.Customer_feedback.value_counts()"
   ]
  },
  {
   "cell_type": "code",
   "execution_count": 20,
   "id": "7643fe2b",
   "metadata": {},
   "outputs": [
    {
     "data": {
      "text/plain": [
       "0    742\n",
       "1    258\n",
       "Name: Target, dtype: int64"
      ]
     },
     "execution_count": 20,
     "metadata": {},
     "output_type": "execute_result"
    }
   ],
   "source": [
    "# 1 indicates employees involved in suspicious activities and 0 indicating otherwise\n",
    "df.Target.value_counts()"
   ]
  },
  {
   "cell_type": "code",
   "execution_count": 21,
   "id": "60fe9092",
   "metadata": {},
   "outputs": [
    {
     "data": {
      "text/plain": [
       "<Figure size 576x432 with 0 Axes>"
      ]
     },
     "execution_count": 21,
     "metadata": {},
     "output_type": "execute_result"
    },
    {
     "data": {
      "text/plain": [
       "Text(0.5, 0, 'Target')"
      ]
     },
     "execution_count": 21,
     "metadata": {},
     "output_type": "execute_result"
    },
    {
     "data": {
      "text/plain": [
       "Text(0, 0.5, 'Count')"
      ]
     },
     "execution_count": 21,
     "metadata": {},
     "output_type": "execute_result"
    },
    {
     "data": {
      "text/plain": [
       "Text(0.0, 742.1, '742')"
      ]
     },
     "execution_count": 21,
     "metadata": {},
     "output_type": "execute_result"
    },
    {
     "data": {
      "text/plain": [
       "Text(1.0, 258.1, '258')"
      ]
     },
     "execution_count": 21,
     "metadata": {},
     "output_type": "execute_result"
    },
    {
     "data": {
      "image/png": "[encoded data removed]",
      "text/plain": [
       "<Figure size 576x432 with 1 Axes>"
      ]
     },
     "metadata": {
      "needs_background": "light"
     },
     "output_type": "display_data"
    }
   ],
   "source": [
    "#Plot between risk violations(1) and non-violations(0)\n",
    "plt.figure(figsize=(8,6))\n",
    "ax = sns.countplot(x=\"Target\", data=df)\n",
    "plt.xlabel('Target')\n",
    "plt.ylabel('Count')\n",
    "i=0\n",
    "for p in ax.patches:\n",
    "    height = p.get_height()\n",
    "    ax.text(p.get_x()+p.get_width()/2., height + 0.1,\n",
    "        df['Target'].value_counts()[i],ha=\"center\")\n",
    "    i += 1"
   ]
  },
  {
   "cell_type": "code",
   "execution_count": 22,
   "id": "96c8224e",
   "metadata": {},
   "outputs": [
    {
     "name": "stdout",
     "output_type": "stream",
     "text": [
      "Percentage of employees following conduct risk policies properly: 74.2\n",
      "Percentage of employees involved in suspicious activities thus violating conduct risk: 25.8\n"
     ]
    }
   ],
   "source": [
    "count_illegal = len(df[df['Target']==1])\n",
    "count_normal = len(df[df['Target']==0])\n",
    "pct_of_illegal = (count_illegal/(count_normal + count_illegal))*100\n",
    "pct_of_normal = (count_normal/(count_normal + count_illegal))*100\n",
    "print(\"Percentage of employees following conduct risk policies properly:\",pct_of_normal)\n",
    "print(\"Percentage of employees involved in suspicious activities thus violating conduct risk:\",pct_of_illegal)"
   ]
  },
  {
   "cell_type": "markdown",
   "id": "a04ffd2c",
   "metadata": {},
   "source": [
    "# Bi-Varient Analysis"
   ]
  },
  {
   "cell_type": "code",
   "execution_count": 23,
   "id": "57e7f25e",
   "metadata": {},
   "outputs": [
    {
     "data": {
      "text/plain": [
       "<AxesSubplot:xlabel='Misaligned_incentives'>"
      ]
     },
     "execution_count": 23,
     "metadata": {},
     "output_type": "execute_result"
    },
    {
     "data": {
      "text/plain": [
       "Text(0.5, 1.0, 'Misaligned Incentives w.r.t Conduct Risk Violations plot')"
      ]
     },
     "execution_count": 23,
     "metadata": {},
     "output_type": "execute_result"
    },
    {
     "data": {
      "text/plain": [
       "Text(0.5, 0, 'Misaligned Incentives')"
      ]
     },
     "execution_count": 23,
     "metadata": {},
     "output_type": "execute_result"
    },
    {
     "data": {
      "text/plain": [
       "Text(0, 0.5, 'Conduct Risk Violations')"
      ]
     },
     "execution_count": 23,
     "metadata": {},
     "output_type": "execute_result"
    },
    {
     "data": {
      "image/png": "[encoded data removed]",
      "text/plain": [
       "<Figure size 432x288 with 1 Axes>"
      ]
     },
     "metadata": {
      "needs_background": "light"
     },
     "output_type": "display_data"
    }
   ],
   "source": [
    "# Misaligned Incentives w.r.t Conduct Risk Violations \n",
    "#risk violations(1) and non-violations(0)\n",
    "%matplotlib inline\n",
    "pd.crosstab(df.Misaligned_incentives,df.Target).plot(kind='bar')\n",
    "plt.title('Misaligned Incentives w.r.t Conduct Risk Violations plot')\n",
    "plt.xlabel('Misaligned Incentives')\n",
    "plt.ylabel('Conduct Risk Violations')\n",
    "plt.savefig('RV_MI')"
   ]
  },
  {
   "cell_type": "code",
   "execution_count": 24,
   "id": "e9b70712",
   "metadata": {},
   "outputs": [
    {
     "data": {
      "text/plain": [
       "<AxesSubplot:xlabel='Customer_segment'>"
      ]
     },
     "execution_count": 24,
     "metadata": {},
     "output_type": "execute_result"
    },
    {
     "data": {
      "text/plain": [
       "Text(0.5, 0, 'Misaligned_incentives - Customer Segment')"
      ]
     },
     "execution_count": 24,
     "metadata": {},
     "output_type": "execute_result"
    },
    {
     "data": {
      "text/plain": [
       "Text(0, 0.5, 'Conduct Risk Violations')"
      ]
     },
     "execution_count": 24,
     "metadata": {},
     "output_type": "execute_result"
    },
    {
     "data": {
      "text/plain": [
       "<matplotlib.legend.Legend at 0x28651e46f70>"
      ]
     },
     "execution_count": 24,
     "metadata": {},
     "output_type": "execute_result"
    },
    {
     "data": {
      "image/png": "[encoded data removed]",
      "text/plain": [
       "<Figure size 864x504 with 1 Axes>"
      ]
     },
     "metadata": {
      "needs_background": "light"
     },
     "output_type": "display_data"
    }
   ],
   "source": [
    "# Misaligned_incentives - Customer Segment\n",
    "#risk violations(1) and non-violations(0)\n",
    "pd.crosstab(df.Customer_segment,[df.Misaligned_incentives,df.Target],rownames=['Customer_segment'],colnames=['Misaligned_incentives','Target']).plot(kind='bar',figsize=(12,7))\n",
    "plt.xlabel(\"Misaligned_incentives - Customer Segment\") \n",
    "plt.ylabel(\"Conduct Risk Violations\")\n",
    "plt.legend(loc='best')\n",
    "plt.savefig('MI_CS')\n",
    "plt.show() "
   ]
  },
  {
   "cell_type": "code",
   "execution_count": 25,
   "id": "2b873587",
   "metadata": {},
   "outputs": [
    {
     "data": {
      "text/plain": [
       "<AxesSubplot:xlabel='Account_usage_data'>"
      ]
     },
     "execution_count": 25,
     "metadata": {},
     "output_type": "execute_result"
    },
    {
     "data": {
      "text/plain": [
       "Text(0.5, 1.0, 'Account Usage Data vs Conduct Risk Violations plot')"
      ]
     },
     "execution_count": 25,
     "metadata": {},
     "output_type": "execute_result"
    },
    {
     "data": {
      "text/plain": [
       "Text(0.5, 0, 'Account Usage Data')"
      ]
     },
     "execution_count": 25,
     "metadata": {},
     "output_type": "execute_result"
    },
    {
     "data": {
      "text/plain": [
       "Text(0, 0.5, 'Conduct Risk Violations')"
      ]
     },
     "execution_count": 25,
     "metadata": {},
     "output_type": "execute_result"
    },
    {
     "data": {
      "image/png": "[encoded data removed]",
      "text/plain": [
       "<Figure size 432x288 with 1 Axes>"
      ]
     },
     "metadata": {
      "needs_background": "light"
     },
     "output_type": "display_data"
    }
   ],
   "source": [
    "# Account Usage Data vs Conduct Risk Violations plot\n",
    "#risk violations(1) and non-violations(0)\n",
    "tab = pd.crosstab(df.Account_usage_data,df.Target)\n",
    "tab.div(tab.sum(1).astype(float), axis=0).plot(kind='bar',stacked=True)\n",
    "plt.title('Account Usage Data vs Conduct Risk Violations plot')\n",
    "plt.xlabel('Account Usage Data')\n",
    "plt.ylabel('Conduct Risk Violations')\n",
    "plt.savefig('AUD_RV')"
   ]
  },
  {
   "cell_type": "code",
   "execution_count": 26,
   "id": "2320b139",
   "metadata": {},
   "outputs": [
    {
     "data": {
      "text/html": [
       "<div>\n",
       "<style scoped>\n",
       "    .dataframe tbody tr th:only-of-type {\n",
       "        vertical-align: middle;\n",
       "    }\n",
       "\n",
       "    .dataframe tbody tr th {\n",
       "        vertical-align: top;\n",
       "    }\n",
       "\n",
       "    .dataframe thead th {\n",
       "        text-align: right;\n",
       "    }\n",
       "</style>\n",
       "<table border=\"1\" class=\"dataframe\">\n",
       "  <thead>\n",
       "    <tr style=\"text-align: right;\">\n",
       "      <th>Target</th>\n",
       "      <th>0</th>\n",
       "      <th>1</th>\n",
       "    </tr>\n",
       "    <tr>\n",
       "      <th>Account_usage_data</th>\n",
       "      <th></th>\n",
       "      <th></th>\n",
       "    </tr>\n",
       "  </thead>\n",
       "  <tbody>\n",
       "    <tr>\n",
       "      <th>0</th>\n",
       "      <td>0.734893</td>\n",
       "      <td>0.265107</td>\n",
       "    </tr>\n",
       "    <tr>\n",
       "      <th>1</th>\n",
       "      <td>0.749487</td>\n",
       "      <td>0.250513</td>\n",
       "    </tr>\n",
       "  </tbody>\n",
       "</table>\n",
       "</div>"
      ],
      "text/plain": [
       "Target                     0         1\n",
       "Account_usage_data                    \n",
       "0                   0.734893  0.265107\n",
       "1                   0.749487  0.250513"
      ]
     },
     "execution_count": 26,
     "metadata": {},
     "output_type": "execute_result"
    }
   ],
   "source": [
    "tab.div(tab.sum(1).astype(float), axis=0)"
   ]
  },
  {
   "cell_type": "code",
   "execution_count": 27,
   "id": "afec0af1",
   "metadata": {},
   "outputs": [
    {
     "data": {
      "text/plain": [
       "<AxesSubplot:xlabel='Employee_performance'>"
      ]
     },
     "execution_count": 27,
     "metadata": {},
     "output_type": "execute_result"
    },
    {
     "data": {
      "text/plain": [
       "Text(0.5, 1.0, 'Employee Performance Level - Conduct Risk Violations plot')"
      ]
     },
     "execution_count": 27,
     "metadata": {},
     "output_type": "execute_result"
    },
    {
     "data": {
      "text/plain": [
       "Text(0.5, 0, 'Employee Performance Level')"
      ]
     },
     "execution_count": 27,
     "metadata": {},
     "output_type": "execute_result"
    },
    {
     "data": {
      "text/plain": [
       "Text(0, 0.5, 'Conduct Risk Violations')"
      ]
     },
     "execution_count": 27,
     "metadata": {},
     "output_type": "execute_result"
    },
    {
     "data": {
      "image/png": "[encoded data removed]",
      "text/plain": [
       "<Figure size 432x288 with 1 Axes>"
      ]
     },
     "metadata": {
      "needs_background": "light"
     },
     "output_type": "display_data"
    }
   ],
   "source": [
    "#Employee Performance Level - Conduct Risk Violations plot\n",
    "#risk violations(1) and non-violations(0)\n",
    "tab1 = pd.crosstab(df.Employee_performance,df.Target)\n",
    "tab1.div(tab1.sum(1).astype(float),axis=0).plot(kind='bar',stacked=True)\n",
    "plt.title('Employee Performance Level - Conduct Risk Violations plot')\n",
    "plt.xlabel('Employee Performance Level')\n",
    "plt.ylabel('Conduct Risk Violations')\n",
    "plt.savefig('EP_RV')"
   ]
  },
  {
   "cell_type": "code",
   "execution_count": 28,
   "id": "d571c4f7",
   "metadata": {},
   "outputs": [
    {
     "data": {
      "text/plain": [
       "<AxesSubplot:xlabel='Customer_feedback'>"
      ]
     },
     "execution_count": 28,
     "metadata": {},
     "output_type": "execute_result"
    },
    {
     "data": {
      "text/plain": [
       "Text(0.5, 1.0, 'Customer Feedback against Conduct Risk Violations plot')"
      ]
     },
     "execution_count": 28,
     "metadata": {},
     "output_type": "execute_result"
    },
    {
     "data": {
      "text/plain": [
       "Text(0.5, 0, 'Customer Feedback')"
      ]
     },
     "execution_count": 28,
     "metadata": {},
     "output_type": "execute_result"
    },
    {
     "data": {
      "text/plain": [
       "Text(0, 0.5, 'Conduct Risk Violations')"
      ]
     },
     "execution_count": 28,
     "metadata": {},
     "output_type": "execute_result"
    },
    {
     "data": {
      "image/png": "[encoded data removed]",
      "text/plain": [
       "<Figure size 432x288 with 1 Axes>"
      ]
     },
     "metadata": {
      "needs_background": "light"
     },
     "output_type": "display_data"
    }
   ],
   "source": [
    "# Customer Feedback against Conduct Risk Violations plot\n",
    "#risk violations(1) and non-violations(0)\n",
    "tab2 = pd.crosstab(df.Customer_feedback,df.Target)\n",
    "tab2.div(tab2.sum(1).astype(float),axis=0).plot(kind='bar',stacked=True)\n",
    "plt.title('Customer Feedback against Conduct Risk Violations plot')\n",
    "plt.xlabel('Customer Feedback')\n",
    "plt.ylabel('Conduct Risk Violations')\n",
    "plt.savefig('CF_RV')"
   ]
  },
  {
   "cell_type": "code",
   "execution_count": 29,
   "id": "859613e6",
   "metadata": {},
   "outputs": [
    {
     "data": {
      "text/plain": [
       "<AxesSubplot:xlabel='retail_acc_setup_errrate'>"
      ]
     },
     "execution_count": 29,
     "metadata": {},
     "output_type": "execute_result"
    },
    {
     "data": {
      "text/plain": [
       "Text(0.5, 1.0, 'Retail Account Setup Error Rate against Conduct Risk Violations plot')"
      ]
     },
     "execution_count": 29,
     "metadata": {},
     "output_type": "execute_result"
    },
    {
     "data": {
      "text/plain": [
       "Text(0.5, 0, 'Retail Account Setup Error Rate')"
      ]
     },
     "execution_count": 29,
     "metadata": {},
     "output_type": "execute_result"
    },
    {
     "data": {
      "text/plain": [
       "Text(0, 0.5, 'Conduct Risk Violations')"
      ]
     },
     "execution_count": 29,
     "metadata": {},
     "output_type": "execute_result"
    },
    {
     "data": {
      "image/png": "[encoded data removed]",
      "text/plain": [
       "<Figure size 864x504 with 1 Axes>"
      ]
     },
     "metadata": {
      "needs_background": "light"
     },
     "output_type": "display_data"
    }
   ],
   "source": [
    "# Retail Account Setup Error Rate against Conduct Risk Violations plot\n",
    "#risk violations(1) and non-violations(0)\n",
    "pd.crosstab(df.retail_acc_setup_errrate,df.Target).plot(kind='bar',figsize=(12,7))\n",
    "plt.title('Retail Account Setup Error Rate against Conduct Risk Violations plot')\n",
    "plt.xlabel('Retail Account Setup Error Rate')\n",
    "plt.ylabel('Conduct Risk Violations')\n",
    "plt.savefig('RASER_RV')"
   ]
  },
  {
   "cell_type": "code",
   "execution_count": 30,
   "id": "d4226379",
   "metadata": {},
   "outputs": [
    {
     "data": {
      "text/plain": [
       "<AxesSubplot:xlabel='avg_time_to_close_issues'>"
      ]
     },
     "execution_count": 30,
     "metadata": {},
     "output_type": "execute_result"
    },
    {
     "data": {
      "text/plain": [
       "Text(0.5, 1.0, 'Average time to close issues against Conduct Risk Violations plot')"
      ]
     },
     "execution_count": 30,
     "metadata": {},
     "output_type": "execute_result"
    },
    {
     "data": {
      "text/plain": [
       "Text(0.5, 0, 'Average time to close issues')"
      ]
     },
     "execution_count": 30,
     "metadata": {},
     "output_type": "execute_result"
    },
    {
     "data": {
      "text/plain": [
       "(array([ 0,  1,  2,  3,  4,  5,  6,  7,  8,  9, 10, 11, 12, 13, 14, 15, 16,\n",
       "        17, 18, 19, 20, 21, 22, 23, 24, 25, 26, 27, 28, 29, 30, 31, 32, 33,\n",
       "        34, 35, 36, 37, 38, 39, 40, 41, 42, 43, 44, 45, 46, 47, 48, 49, 50,\n",
       "        51, 52, 53, 54, 55, 56, 57, 58, 59, 60, 61, 62, 63, 64]),\n",
       " [Text(0, 0, '8'),\n",
       "  Text(1, 0, '9'),\n",
       "  Text(2, 0, '10'),\n",
       "  Text(3, 0, '11'),\n",
       "  Text(4, 0, '12'),\n",
       "  Text(5, 0, '13'),\n",
       "  Text(6, 0, '14'),\n",
       "  Text(7, 0, '15'),\n",
       "  Text(8, 0, '16'),\n",
       "  Text(9, 0, '17'),\n",
       "  Text(10, 0, '18'),\n",
       "  Text(11, 0, '19'),\n",
       "  Text(12, 0, '20'),\n",
       "  Text(13, 0, '21'),\n",
       "  Text(14, 0, '22'),\n",
       "  Text(15, 0, '23'),\n",
       "  Text(16, 0, '24'),\n",
       "  Text(17, 0, '25'),\n",
       "  Text(18, 0, '26'),\n",
       "  Text(19, 0, '27'),\n",
       "  Text(20, 0, '28'),\n",
       "  Text(21, 0, '29'),\n",
       "  Text(22, 0, '30'),\n",
       "  Text(23, 0, '31'),\n",
       "  Text(24, 0, '32'),\n",
       "  Text(25, 0, '33'),\n",
       "  Text(26, 0, '34'),\n",
       "  Text(27, 0, '35'),\n",
       "  Text(28, 0, '36'),\n",
       "  Text(29, 0, '37'),\n",
       "  Text(30, 0, '38'),\n",
       "  Text(31, 0, '39'),\n",
       "  Text(32, 0, '40'),\n",
       "  Text(33, 0, '41'),\n",
       "  Text(34, 0, '42'),\n",
       "  Text(35, 0, '43'),\n",
       "  Text(36, 0, '44'),\n",
       "  Text(37, 0, '45'),\n",
       "  Text(38, 0, '46'),\n",
       "  Text(39, 0, '47'),\n",
       "  Text(40, 0, '48'),\n",
       "  Text(41, 0, '49'),\n",
       "  Text(42, 0, '50'),\n",
       "  Text(43, 0, '51'),\n",
       "  Text(44, 0, '52'),\n",
       "  Text(45, 0, '53'),\n",
       "  Text(46, 0, '54'),\n",
       "  Text(47, 0, '55'),\n",
       "  Text(48, 0, '56'),\n",
       "  Text(49, 0, '57'),\n",
       "  Text(50, 0, '58'),\n",
       "  Text(51, 0, '59'),\n",
       "  Text(52, 0, '60'),\n",
       "  Text(53, 0, '61'),\n",
       "  Text(54, 0, '62'),\n",
       "  Text(55, 0, '63'),\n",
       "  Text(56, 0, '64'),\n",
       "  Text(57, 0, '65'),\n",
       "  Text(58, 0, '66'),\n",
       "  Text(59, 0, '67'),\n",
       "  Text(60, 0, '68'),\n",
       "  Text(61, 0, '69'),\n",
       "  Text(62, 0, '70'),\n",
       "  Text(63, 0, '71'),\n",
       "  Text(64, 0, '72')])"
      ]
     },
     "execution_count": 30,
     "metadata": {},
     "output_type": "execute_result"
    },
    {
     "data": {
      "text/plain": [
       "Text(0, 0.5, 'Conduct Risk Violations')"
      ]
     },
     "execution_count": 30,
     "metadata": {},
     "output_type": "execute_result"
    },
    {
     "data": {
      "image/png": "[encoded data removed]",
      "text/plain": [
       "<Figure size 1080x720 with 1 Axes>"
      ]
     },
     "metadata": {
      "needs_background": "light"
     },
     "output_type": "display_data"
    }
   ],
   "source": [
    "# Average time to close issues against Conduct Risk Violations plot\n",
    "#risk violations(1) and non-violations(0)\n",
    "pd.crosstab(df.avg_time_to_close_issues,df.Target).plot(kind='bar',figsize=(15,10))\n",
    "plt.title('Average time to close issues against Conduct Risk Violations plot')\n",
    "plt.xlabel('Average time to close issues')\n",
    "plt.xticks(rotation=90)\n",
    "plt.ylabel('Conduct Risk Violations')\n",
    "plt.savefig('ATCI_RV')"
   ]
  },
  {
   "cell_type": "code",
   "execution_count": 31,
   "id": "86d2ba04",
   "metadata": {},
   "outputs": [
    {
     "data": {
      "text/plain": [
       "<AxesSubplot:xlabel='compliance'>"
      ]
     },
     "execution_count": 31,
     "metadata": {},
     "output_type": "execute_result"
    },
    {
     "data": {
      "text/plain": [
       "Text(0.5, 1.0, 'Compliance against Conduct Risk Violations plot')"
      ]
     },
     "execution_count": 31,
     "metadata": {},
     "output_type": "execute_result"
    },
    {
     "data": {
      "text/plain": [
       "Text(0.5, 0, 'Compliance')"
      ]
     },
     "execution_count": 31,
     "metadata": {},
     "output_type": "execute_result"
    },
    {
     "data": {
      "text/plain": [
       "Text(0, 0.5, 'Conduct Risk Violations')"
      ]
     },
     "execution_count": 31,
     "metadata": {},
     "output_type": "execute_result"
    },
    {
     "data": {
      "image/png": "[encoded data removed]",
      "text/plain": [
       "<Figure size 504x504 with 1 Axes>"
      ]
     },
     "metadata": {
      "needs_background": "light"
     },
     "output_type": "display_data"
    }
   ],
   "source": [
    "# Compliance against Conduct Risk Violations plot\n",
    "#risk violations(1) and non-violations(0)\n",
    "#compliance  \n",
    "#1-least compliant to companies policies/work guidelines \n",
    "#5-highly compliant \n",
    "pd.crosstab(df.compliance,df.Target).plot(kind='bar',figsize=(7,7))\n",
    "plt.title('Compliance against Conduct Risk Violations plot')\n",
    "plt.xlabel('Compliance')\n",
    "plt.ylabel('Conduct Risk Violations')\n",
    "plt.savefig('C_RV')"
   ]
  },
  {
   "cell_type": "code",
   "execution_count": 32,
   "id": "7deb72de",
   "metadata": {},
   "outputs": [
    {
     "data": {
      "text/plain": [
       "<AxesSubplot:xlabel='Product_performance'>"
      ]
     },
     "execution_count": 32,
     "metadata": {},
     "output_type": "execute_result"
    },
    {
     "data": {
      "text/plain": [
       "Text(0.5, 1.0, 'Product Performance against Conduct Risk Violations plot')"
      ]
     },
     "execution_count": 32,
     "metadata": {},
     "output_type": "execute_result"
    },
    {
     "data": {
      "text/plain": [
       "Text(0.5, 0, 'Product Performance')"
      ]
     },
     "execution_count": 32,
     "metadata": {},
     "output_type": "execute_result"
    },
    {
     "data": {
      "text/plain": [
       "Text(0, 0.5, 'Conduct Risk Violations')"
      ]
     },
     "execution_count": 32,
     "metadata": {},
     "output_type": "execute_result"
    },
    {
     "data": {
      "image/png": "[encoded data removed]",
      "text/plain": [
       "<Figure size 432x288 with 1 Axes>"
      ]
     },
     "metadata": {
      "needs_background": "light"
     },
     "output_type": "display_data"
    }
   ],
   "source": [
    "# Product Performance against Conduct Risk Violations plot\n",
    "#risk violations(1) and non-violations(0)\n",
    "#Product_performance: 1-performing well, 0-not performing well\n",
    "pd.crosstab(df.Product_performance,df.Target).plot(kind='bar',figsize=(6,4))\n",
    "plt.title('Product Performance against Conduct Risk Violations plot')\n",
    "plt.xlabel('Product Performance')\n",
    "plt.ylabel('Conduct Risk Violations')\n",
    "plt.savefig('PP_RV')"
   ]
  },
  {
   "cell_type": "code",
   "execution_count": 33,
   "id": "68815cdc",
   "metadata": {},
   "outputs": [],
   "source": [
    "# Logistic Regression\n",
    "df2 = df.copy()\n",
    "from sklearn.linear_model import LogisticRegression\n",
    "from sklearn.model_selection import train_test_split\n",
    "from sklearn import metrics\n",
    "X = df2.drop(['Emp_ID','Target','balance','income_levels','tenure_with_bank','credit_score','age','prod_id','prod_price','prod_sell_count','prod_sell_perf'],axis=1)\n",
    "y = df2['Target']"
   ]
  },
  {
   "cell_type": "code",
   "execution_count": 34,
   "id": "fa226674",
   "metadata": {},
   "outputs": [],
   "source": [
    "df3 = df.copy()"
   ]
  },
  {
   "cell_type": "code",
   "execution_count": 35,
   "id": "89de13dc",
   "metadata": {},
   "outputs": [],
   "source": [
    "df_yes = df3[df3['Target']==1]\n",
    "df_no = df3[df3['Target']==0]"
   ]
  },
  {
   "cell_type": "code",
   "execution_count": 36,
   "id": "2deb584c",
   "metadata": {},
   "outputs": [
    {
     "data": {
      "text/plain": [
       "1    258\n",
       "Name: Target, dtype: int64"
      ]
     },
     "execution_count": 36,
     "metadata": {},
     "output_type": "execute_result"
    },
    {
     "data": {
      "text/plain": [
       "0    742\n",
       "Name: Target, dtype: int64"
      ]
     },
     "execution_count": 36,
     "metadata": {},
     "output_type": "execute_result"
    }
   ],
   "source": [
    "df_yes.Target.value_counts()\n",
    "df_no.Target.value_counts()"
   ]
  },
  {
   "cell_type": "code",
   "execution_count": 37,
   "id": "b0180835",
   "metadata": {},
   "outputs": [],
   "source": [
    "df_yes_x = df_yes.drop(['Emp_ID','Target','balance','income_levels','tenure_with_bank','credit_score','age','prod_id','prod_price','prod_sell_count','prod_sell_perf'],axis=1)\n",
    "df_yes_y = df_yes['Target']\n",
    "\n",
    "df_no_x = df_no.drop(['Emp_ID','Target','balance','income_levels','tenure_with_bank','credit_score','age','prod_id','prod_price','prod_sell_count','prod_sell_perf'],axis=1)\n",
    "df_no_y = df_no['Target']"
   ]
  },
  {
   "cell_type": "code",
   "execution_count": 38,
   "id": "043043be",
   "metadata": {},
   "outputs": [
    {
     "data": {
      "text/plain": [
       "Index(['Sales', 'Account_usage_data', 'Customer_segment',\n",
       "       'Misaligned_incentives', 'Employee_performance', 'Customer_feedback',\n",
       "       'points_of_improvement', 'compliance', 'retail_acc_setup_errrate',\n",
       "       'avg_time_to_close_issues', 'Product_performance'],\n",
       "      dtype='object')"
      ]
     },
     "execution_count": 38,
     "metadata": {},
     "output_type": "execute_result"
    }
   ],
   "source": [
    "df_yes_x.columns"
   ]
  },
  {
   "cell_type": "code",
   "execution_count": 39,
   "id": "aff141fd",
   "metadata": {},
   "outputs": [],
   "source": [
    "count_classes = pd.value_counts(df3['Target'], sort = True)"
   ]
  },
  {
   "cell_type": "code",
   "execution_count": 40,
   "id": "05a2ee28",
   "metadata": {},
   "outputs": [
    {
     "data": {
      "image/png": "[encoded data removed]",
      "text/plain": [
       "<Figure size 720x360 with 1 Axes>"
      ]
     },
     "metadata": {
      "needs_background": "light"
     },
     "output_type": "display_data"
    }
   ],
   "source": [
    "plt.figure(figsize=(10,5))\n",
    "LABELS = [\"Normal\", \"Anomaly\"]\n",
    "count_classes.plot(kind = 'bar', rot=0)\n",
    "plt.title(\"Identified network Attacked Distribution\")\n",
    "plt.xticks(range(2), LABELS)\n",
    "plt.xlabel(\"Class\")\n",
    "plt.ylabel(\"Frequency\");"
   ]
  },
  {
   "cell_type": "code",
   "execution_count": 41,
   "id": "65a2bbd9",
   "metadata": {},
   "outputs": [],
   "source": [
    "X_train_yes, X_test_yes, y_train_yes, y_test_yes = train_test_split(df_yes_x,df_yes_y,test_size=0.40,random_state=0)"
   ]
  },
  {
   "cell_type": "code",
   "execution_count": 42,
   "id": "d2a3562b",
   "metadata": {},
   "outputs": [],
   "source": [
    "X_train_No, X_test_No, y_train_No, y_test_No = train_test_split(df_no_x,df_no_y,test_size=0.40,random_state=0)"
   ]
  },
  {
   "cell_type": "code",
   "execution_count": 43,
   "id": "e154cbea",
   "metadata": {},
   "outputs": [],
   "source": [
    "X_train = pd.concat([X_train_yes,X_train_No])\n",
    "X_test = pd.concat([X_test_yes,X_test_No])\n",
    "y_train = pd.concat([y_train_yes,y_train_No])\n",
    "y_test = pd.concat([y_test_yes,y_test_No])"
   ]
  },
  {
   "cell_type": "code",
   "execution_count": 44,
   "id": "c6b9c017",
   "metadata": {},
   "outputs": [
    {
     "data": {
      "text/plain": [
       "LogisticRegression()"
      ]
     },
     "execution_count": 44,
     "metadata": {},
     "output_type": "execute_result"
    }
   ],
   "source": [
    "#X_train, X_test, y_train, y_test = train_test_split(X,y,test_size=0.40,random_state=0)\n",
    "Logreg = LogisticRegression()\n",
    "Logreg.fit(X_train,y_train)"
   ]
  },
  {
   "cell_type": "code",
   "execution_count": 45,
   "id": "233aa905",
   "metadata": {},
   "outputs": [
    {
     "name": "stdout",
     "output_type": "stream",
     "text": [
      "Logistic Regression Accuracy on train set: 0.83\n",
      "Logistic Regression Accuracy on test set: 0.80\n"
     ]
    }
   ],
   "source": [
    "y_pred_train = Logreg.predict(X_train)\n",
    "y_pred_test = Logreg.predict(X_test)\n",
    "print('Logistic Regression Accuracy on train set: {:.2f}'.format(Logreg.score(X_train,y_train)))\n",
    "print('Logistic Regression Accuracy on test set: {:.2f}'.format(Logreg.score(X_test,y_test)))"
   ]
  },
  {
   "cell_type": "code",
   "execution_count": 46,
   "id": "8a66825a",
   "metadata": {},
   "outputs": [
    {
     "data": {
      "text/plain": [
       "<AxesSubplot:>"
      ]
     },
     "execution_count": 46,
     "metadata": {},
     "output_type": "execute_result"
    },
    {
     "data": {
      "text/plain": [
       "Text(33.0, 0.5, 'True class')"
      ]
     },
     "execution_count": 46,
     "metadata": {},
     "output_type": "execute_result"
    },
    {
     "data": {
      "text/plain": [
       "Text(0.5, 15.0, 'Predicted class')"
      ]
     },
     "execution_count": 46,
     "metadata": {},
     "output_type": "execute_result"
    },
    {
     "data": {
      "text/plain": [
       "Text(0.5, 1.0, 'Logistic Regression')"
      ]
     },
     "execution_count": 46,
     "metadata": {},
     "output_type": "execute_result"
    },
    {
     "data": {
      "image/png": "[encoded data removed]",
      "text/plain": [
       "<Figure size 432x288 with 2 Axes>"
      ]
     },
     "metadata": {
      "needs_background": "light"
     },
     "output_type": "display_data"
    }
   ],
   "source": [
    "from sklearn.metrics import confusion_matrix\n",
    "logistic_cm = metrics.confusion_matrix(y_pred_test, y_test, [1,0])\n",
    "sns.heatmap(logistic_cm, annot=True, fmt='.2f',xticklabels = [\"Violation\", \"Non-Violation\"] , yticklabels = [\"Violation\", \"Non-Violation\"] )\n",
    "plt.ylabel('True class')\n",
    "plt.xlabel('Predicted class')\n",
    "plt.title('Logistic Regression')\n",
    "plt.savefig('LR_CM')"
   ]
  },
  {
   "cell_type": "code",
   "execution_count": 47,
   "id": "2ffdf9a3",
   "metadata": {},
   "outputs": [
    {
     "name": "stdout",
     "output_type": "stream",
     "text": [
      "              precision    recall  f1-score   support\n",
      "\n",
      "           0       0.84      0.91      0.87       297\n",
      "           1       0.65      0.49      0.56       104\n",
      "\n",
      "    accuracy                           0.80       401\n",
      "   macro avg       0.74      0.70      0.72       401\n",
      "weighted avg       0.79      0.80      0.79       401\n",
      "\n",
      "Accuracy:  0.800498753117207\n",
      "Precision: 0.6538461538461539\n",
      "Recall: 0.49038461538461536\n",
      "F1 Score:  0.5604395604395604\n"
     ]
    }
   ],
   "source": [
    "from sklearn.metrics import classification_report\n",
    "print(classification_report(y_test, y_pred_test))\n",
    "print(\"Accuracy: \",metrics.accuracy_score(y_test, y_pred_test))\n",
    "print(\"Precision:\",metrics.precision_score(y_test, y_pred_test))\n",
    "print(\"Recall:\",metrics.recall_score(y_test, y_pred_test))\n",
    "print(\"F1 Score: \",metrics.f1_score(y_test, y_pred_test))"
   ]
  },
  {
   "cell_type": "markdown",
   "id": "95bb9219",
   "metadata": {},
   "source": [
    "# K-Nearest Neighbors(KNN)"
   ]
  },
  {
   "cell_type": "code",
   "execution_count": 48,
   "id": "f4715144",
   "metadata": {},
   "outputs": [],
   "source": [
    "from sklearn.neighbors import KNeighborsClassifier\n",
    "from sklearn.metrics import mean_squared_error\n",
    "from math import sqrt"
   ]
  },
  {
   "cell_type": "code",
   "execution_count": 49,
   "id": "04715afa",
   "metadata": {},
   "outputs": [
    {
     "data": {
      "text/plain": [
       "KNeighborsClassifier(n_neighbors=3)"
      ]
     },
     "execution_count": 49,
     "metadata": {},
     "output_type": "execute_result"
    }
   ],
   "source": [
    "knn = KNeighborsClassifier(n_neighbors = 3)\n",
    "knn.fit(X_train, y_train)"
   ]
  },
  {
   "cell_type": "code",
   "execution_count": 50,
   "id": "eec65533",
   "metadata": {},
   "outputs": [],
   "source": [
    "knn_pred_train = knn.predict(X_train)\n",
    "knn_pred_test = knn.predict(X_test)"
   ]
  },
  {
   "cell_type": "code",
   "execution_count": 51,
   "id": "2dff69d9",
   "metadata": {},
   "outputs": [
    {
     "name": "stdout",
     "output_type": "stream",
     "text": [
      "K Nearest Accuracy on train set: 0.80\n",
      "K Nearest Accuracy on test set: 0.69\n"
     ]
    }
   ],
   "source": [
    "print('K Nearest Accuracy on train set: {:.2f}'.format(knn.score(X_train,y_train)))\n",
    "print('K Nearest Accuracy on test set: {:.2f}'.format(knn.score(X_test,y_test)))"
   ]
  },
  {
   "cell_type": "code",
   "execution_count": 52,
   "id": "2d677fdd",
   "metadata": {},
   "outputs": [
    {
     "data": {
      "text/plain": [
       "<AxesSubplot:>"
      ]
     },
     "execution_count": 52,
     "metadata": {},
     "output_type": "execute_result"
    },
    {
     "data": {
      "text/plain": [
       "Text(33.0, 0.5, 'True class')"
      ]
     },
     "execution_count": 52,
     "metadata": {},
     "output_type": "execute_result"
    },
    {
     "data": {
      "text/plain": [
       "Text(0.5, 15.0, 'Predicted class')"
      ]
     },
     "execution_count": 52,
     "metadata": {},
     "output_type": "execute_result"
    },
    {
     "data": {
      "text/plain": [
       "Text(0.5, 1.0, 'K-Nearest Neighbors')"
      ]
     },
     "execution_count": 52,
     "metadata": {},
     "output_type": "execute_result"
    },
    {
     "data": {
      "image/png": "[encoded data removed]",
      "text/plain": [
       "<Figure size 432x288 with 2 Axes>"
      ]
     },
     "metadata": {
      "needs_background": "light"
     },
     "output_type": "display_data"
    }
   ],
   "source": [
    "knn_cm = metrics.confusion_matrix(knn_pred_test, y_test, [1,0])\n",
    "sns.heatmap(knn_cm, annot=True, fmt='.2f',xticklabels = [\"Violation\", \"Non-Violation\"] , yticklabels = [\"Violation\", \"Non-Violation\"] )\n",
    "plt.ylabel('True class')\n",
    "plt.xlabel('Predicted class')\n",
    "plt.title('K-Nearest Neighbors')\n",
    "plt.savefig('KNN_CM')"
   ]
  },
  {
   "cell_type": "code",
   "execution_count": 53,
   "id": "bb99fb3c",
   "metadata": {},
   "outputs": [
    {
     "name": "stdout",
     "output_type": "stream",
     "text": [
      "              precision    recall  f1-score   support\n",
      "\n",
      "           0       0.76      0.84      0.80       297\n",
      "           1       0.35      0.25      0.29       104\n",
      "\n",
      "    accuracy                           0.69       401\n",
      "   macro avg       0.56      0.54      0.55       401\n",
      "weighted avg       0.66      0.69      0.67       401\n",
      "\n",
      "Accuracy:  0.685785536159601\n",
      "Precision:  0.35135135135135137\n",
      "Recall:  0.25\n",
      "F1 Score:  0.2921348314606742\n"
     ]
    }
   ],
   "source": [
    "print(classification_report(y_test, knn.predict(X_test)))\n",
    "print(\"Accuracy: \",metrics.accuracy_score(y_test, knn.predict(X_test)))\n",
    "print(\"Precision: \",metrics.precision_score(y_test, knn.predict(X_test)))\n",
    "print(\"Recall: \",metrics.recall_score(y_test, knn.predict(X_test)))\n",
    "print(\"F1 Score: \",metrics.f1_score(y_test, knn.predict(X_test)))"
   ]
  },
  {
   "cell_type": "markdown",
   "id": "dfc949eb",
   "metadata": {},
   "source": [
    "# Naive Bayes"
   ]
  },
  {
   "cell_type": "code",
   "execution_count": 54,
   "id": "12307e92",
   "metadata": {},
   "outputs": [
    {
     "data": {
      "text/plain": [
       "GaussianNB()"
      ]
     },
     "execution_count": 54,
     "metadata": {},
     "output_type": "execute_result"
    }
   ],
   "source": [
    "from sklearn.naive_bayes import GaussianNB\n",
    "gnb = GaussianNB()\n",
    "gnb.fit(X_train, y_train)"
   ]
  },
  {
   "cell_type": "code",
   "execution_count": 55,
   "id": "763e28e1",
   "metadata": {},
   "outputs": [],
   "source": [
    "y_pred_gnbtrain = gnb.predict(X_train)\n",
    "y_pred_gnbtest = gnb.predict(X_test)"
   ]
  },
  {
   "cell_type": "code",
   "execution_count": 56,
   "id": "2f2fc6e7",
   "metadata": {},
   "outputs": [
    {
     "name": "stdout",
     "output_type": "stream",
     "text": [
      "Gaussian Naive Bayes model Accuracy on train set: 0.825\n",
      "Gaussian Naive Bayes model Accuracy on test set: 0.776\n"
     ]
    }
   ],
   "source": [
    "print('Gaussian Naive Bayes model Accuracy on train set: {:.3f}'.format(gnb.score(X_train, y_train)))\n",
    "print('Gaussian Naive Bayes model Accuracy on test set: {:.3f}'.format(gnb.score(X_test,y_test)))"
   ]
  },
  {
   "cell_type": "code",
   "execution_count": 57,
   "id": "e8757f53",
   "metadata": {},
   "outputs": [
    {
     "data": {
      "text/plain": [
       "<AxesSubplot:>"
      ]
     },
     "execution_count": 57,
     "metadata": {},
     "output_type": "execute_result"
    },
    {
     "data": {
      "text/plain": [
       "Text(33.0, 0.5, 'True class')"
      ]
     },
     "execution_count": 57,
     "metadata": {},
     "output_type": "execute_result"
    },
    {
     "data": {
      "text/plain": [
       "Text(0.5, 15.0, 'Predicted class')"
      ]
     },
     "execution_count": 57,
     "metadata": {},
     "output_type": "execute_result"
    },
    {
     "data": {
      "text/plain": [
       "Text(0.5, 1.0, 'Naive Bayes')"
      ]
     },
     "execution_count": 57,
     "metadata": {},
     "output_type": "execute_result"
    },
    {
     "data": {
      "image/png": "[encoded data removed]",
      "text/plain": [
       "<Figure size 432x288 with 2 Axes>"
      ]
     },
     "metadata": {
      "needs_background": "light"
     },
     "output_type": "display_data"
    }
   ],
   "source": [
    "gnb_cm = metrics.confusion_matrix(y_pred_gnbtest, y_test, [1,0])\n",
    "sns.heatmap(gnb_cm, annot=True, fmt='.2f',xticklabels = [\"Violation\", \"Non-Violation\"] , yticklabels = [\"Violation\", \"Non-Violation\"] )\n",
    "plt.ylabel('True class')\n",
    "plt.xlabel('Predicted class')\n",
    "plt.title('Naive Bayes')\n",
    "plt.savefig('NB_CM')"
   ]
  },
  {
   "cell_type": "code",
   "execution_count": 58,
   "id": "3501cbbf",
   "metadata": {},
   "outputs": [
    {
     "name": "stdout",
     "output_type": "stream",
     "text": [
      "              precision    recall  f1-score   support\n",
      "\n",
      "           0       0.82      0.89      0.85       297\n",
      "           1       0.59      0.46      0.52       104\n",
      "\n",
      "    accuracy                           0.78       401\n",
      "   macro avg       0.70      0.67      0.69       401\n",
      "weighted avg       0.76      0.78      0.77       401\n",
      "\n",
      "Accuracy:  0.7755610972568578\n",
      "Precision:  0.5853658536585366\n",
      "Recall:  0.46153846153846156\n",
      "F1 Score:  0.5161290322580645\n"
     ]
    }
   ],
   "source": [
    "print(classification_report(y_test,y_pred_gnbtest))\n",
    "print(\"Accuracy: \",metrics.accuracy_score(y_test,y_pred_gnbtest))\n",
    "print(\"Precision: \",metrics.precision_score(y_test,y_pred_gnbtest))\n",
    "print(\"Recall: \",metrics.recall_score(y_test,y_pred_gnbtest))\n",
    "print(\"F1 Score: \",metrics.f1_score(y_test, y_pred_gnbtest))"
   ]
  },
  {
   "cell_type": "code",
   "execution_count": 59,
   "id": "9542b239",
   "metadata": {},
   "outputs": [],
   "source": [
    "# X_train = pd.concat([X_train_yes,X_train_No])\n",
    "# X_test = pd.concat([X_test_yes,X_test_No])\n",
    "# y_train = pd.concat([y_train_yes,y_train_No])\n",
    "# y_test = pd.concat([y_test_yes,y_test_No])"
   ]
  },
  {
   "cell_type": "code",
   "execution_count": 60,
   "id": "ab2be7b3",
   "metadata": {},
   "outputs": [],
   "source": [
    "# X_train.columns"
   ]
  },
  {
   "cell_type": "code",
   "execution_count": 61,
   "id": "9e53d9aa",
   "metadata": {},
   "outputs": [],
   "source": [
    "# X_test.columns"
   ]
  },
  {
   "cell_type": "code",
   "execution_count": 62,
   "id": "75d130e0",
   "metadata": {},
   "outputs": [],
   "source": [
    "# y_train.name"
   ]
  },
  {
   "cell_type": "code",
   "execution_count": 63,
   "id": "1e1a9c6b",
   "metadata": {},
   "outputs": [],
   "source": [
    "# df_mod = pd.concat([y_test_yes,X_test_yes], axis = 1)"
   ]
  },
  {
   "cell_type": "code",
   "execution_count": 64,
   "id": "e8994f42",
   "metadata": {},
   "outputs": [],
   "source": [
    "# df_mod.columns"
   ]
  },
  {
   "cell_type": "markdown",
   "id": "a4fc4ab4",
   "metadata": {},
   "source": [
    "# Random Forest"
   ]
  },
  {
   "cell_type": "code",
   "execution_count": 65,
   "id": "9fea53dc",
   "metadata": {},
   "outputs": [
    {
     "data": {
      "text/plain": [
       "RandomForestClassifier()"
      ]
     },
     "execution_count": 65,
     "metadata": {},
     "output_type": "execute_result"
    }
   ],
   "source": [
    "from sklearn.ensemble import RandomForestClassifier\n",
    "rf = RandomForestClassifier()\n",
    "rf.fit(X_train,y_train)"
   ]
  },
  {
   "cell_type": "code",
   "execution_count": 66,
   "id": "38b5a231",
   "metadata": {},
   "outputs": [
    {
     "data": {
      "text/plain": [
       "array([0.14825822, 0.02247624, 0.12183377, 0.07596625, 0.01534215,\n",
       "       0.07632092, 0.08598759, 0.14884146, 0.14927554, 0.13279457,\n",
       "       0.0229033 ])"
      ]
     },
     "execution_count": 66,
     "metadata": {},
     "output_type": "execute_result"
    }
   ],
   "source": [
    "from sklearn.inspection import permutation_importance\n",
    "rf.feature_importances_"
   ]
  },
  {
   "cell_type": "code",
   "execution_count": 67,
   "id": "fb995695",
   "metadata": {},
   "outputs": [
    {
     "data": {
      "text/plain": [
       "Index(['Sales', 'Account_usage_data', 'Customer_segment',\n",
       "       'Misaligned_incentives', 'Employee_performance', 'Customer_feedback',\n",
       "       'points_of_improvement', 'compliance', 'retail_acc_setup_errrate',\n",
       "       'avg_time_to_close_issues', 'Emp_ID', 'Target', 'balance',\n",
       "       'income_levels', 'tenure_with_bank', 'credit_score', 'age', 'prod_id',\n",
       "       'prod_sell_count', 'prod_sell_perf', 'prod_price',\n",
       "       'Product_performance'],\n",
       "      dtype='object')"
      ]
     },
     "execution_count": 67,
     "metadata": {},
     "output_type": "execute_result"
    }
   ],
   "source": [
    "df_yes.columns"
   ]
  },
  {
   "cell_type": "code",
   "execution_count": 68,
   "id": "412ca707",
   "metadata": {},
   "outputs": [
    {
     "name": "stdout",
     "output_type": "stream",
     "text": [
      "('Sales', 0.14825822122063992)\n",
      "('Account_usage_data', 0.022476235108994522)\n",
      "('Customer_segment', 0.12183376721321912)\n",
      "('Misaligned_incentives', 0.07596624987432522)\n",
      "('Employee_performance', 0.015342145772232748)\n",
      "('Customer_feedback', 0.07632092425871452)\n",
      "('points_of_improvement', 0.08598758543545823)\n",
      "('compliance', 0.14884145522111042)\n",
      "('retail_acc_setup_errrate', 0.14927554081701816)\n",
      "('avg_time_to_close_issues', 0.13279457060004232)\n",
      "('Product_performance', 0.022903304478244853)\n"
     ]
    }
   ],
   "source": [
    "#plt.barh(df.columns, rf.feature_importances_)\n",
    "for feature in zip(X_train.columns, rf.feature_importances_):\n",
    "    print(feature)"
   ]
  },
  {
   "cell_type": "code",
   "execution_count": 69,
   "id": "a49eef44",
   "metadata": {},
   "outputs": [
    {
     "name": "stdout",
     "output_type": "stream",
     "text": [
      "                     Feature  Importance\n",
      "4       Employee_performance    1.534215\n",
      "1         Account_usage_data    2.247624\n",
      "10       Product_performance    2.290330\n",
      "3      Misaligned_incentives    7.596625\n",
      "5          Customer_feedback    7.632092\n",
      "6      points_of_improvement    8.598759\n",
      "2           Customer_segment   12.183377\n",
      "9   avg_time_to_close_issues   13.279457\n",
      "0                      Sales   14.825822\n",
      "7                 compliance   14.884146\n",
      "8   retail_acc_setup_errrate   14.927554\n"
     ]
    }
   ],
   "source": [
    "featureImp= []\n",
    "for feat, importance in zip(X_train.columns, rf.feature_importances_):  \n",
    "    temp = [feat, importance*100]\n",
    "    featureImp.append(temp)\n",
    "\n",
    "fT_df = pd.DataFrame(featureImp, columns = ['Feature', 'Importance'])\n",
    "print (fT_df.sort_values('Importance', ascending = True))"
   ]
  },
  {
   "cell_type": "code",
   "execution_count": 70,
   "id": "1336d69e",
   "metadata": {},
   "outputs": [
    {
     "name": "stdout",
     "output_type": "stream",
     "text": [
      "Accuracy of Random Forest Classifier on train set: 1.00\n",
      "Accuracy of random Forest Classifier on test set: 0.77\n"
     ]
    }
   ],
   "source": [
    "print(\"Accuracy of Random Forest Classifier on train set: {:.2f}\".format(rf.score(X_train,y_train)))\n",
    "print(\"Accuracy of random Forest Classifier on test set: {:.2f}\".format(rf.score(X_test,y_test)))"
   ]
  },
  {
   "cell_type": "markdown",
   "id": "a912f609",
   "metadata": {},
   "source": [
    "Since the accuracy on train set is much higher than test set in Random Forest method, this states the possibility of overfitting in this method. So, we are going to use Cross Validation to avoid over-fitting while still producing a prediction for each observation dataset."
   ]
  },
  {
   "cell_type": "markdown",
   "id": "c788ee59",
   "metadata": {},
   "source": [
    "# Cross Validation"
   ]
  },
  {
   "cell_type": "code",
   "execution_count": 71,
   "id": "70d8755e",
   "metadata": {},
   "outputs": [],
   "source": [
    "from sklearn import model_selection\n",
    "from sklearn.metrics import make_scorer, accuracy_score, precision_score, recall_score, f1_score\n",
    "\n",
    "scoring_rf_tr = {'accuracy' : make_scorer(accuracy_score), \n",
    "                 'precision' : make_scorer(precision_score),\n",
    "                 'recall' : make_scorer(recall_score), \n",
    "                 'f1_score' : make_scorer(f1_score)}"
   ]
  },
  {
   "cell_type": "code",
   "execution_count": 72,
   "id": "559e75ac",
   "metadata": {},
   "outputs": [],
   "source": [
    "kfold_rf_tr = model_selection.KFold(n_splits=7,shuffle=True, random_state=7)\n",
    "model_rf_tr = RandomForestClassifier(n_estimators=75) \n",
    "\n",
    "results_rf_tr = model_selection.cross_validate(estimator=model_rf_tr,\n",
    "                                          X=X_train,\n",
    "                                          y=y_train,\n",
    "                                          cv=kfold_rf_tr,\n",
    "                                          scoring=scoring_rf_tr)"
   ]
  },
  {
   "cell_type": "code",
   "execution_count": 73,
   "id": "c38fea67",
   "metadata": {},
   "outputs": [
    {
     "name": "stdout",
     "output_type": "stream",
     "text": [
      "5-Fold cross validation average accuracy on train set: 0.806\n"
     ]
    }
   ],
   "source": [
    "y_pred_rftrain = model_selection.cross_val_predict(model_rf_tr, X_train, y_train, cv=kfold_rf_tr)\n",
    "print(\"5-Fold cross validation average accuracy on train set: %.3f\" %(np.mean(results_rf_tr['test_accuracy'])))"
   ]
  },
  {
   "cell_type": "code",
   "execution_count": 74,
   "id": "d7577d22",
   "metadata": {},
   "outputs": [],
   "source": [
    "# y_pred_rftrain = model_selection.cross_val_predict(model_rf_tr, X_train, y_train, cv=kfold_rf_tr)\n",
    "# y_pred_proba_rftrain = model_selection.cross_val_predict(model_rf_tr, X_train, y_train, cv=kfold_rf_tr, method='predict_proba')\n",
    "# print(\"5-Fold cross validation average accuracy on train set: %.3f\" %(np.mean(results_rf_ts['train_accuracy'])))"
   ]
  },
  {
   "cell_type": "code",
   "execution_count": 75,
   "id": "da2f827a",
   "metadata": {},
   "outputs": [],
   "source": [
    "# y_pred_rftrain"
   ]
  },
  {
   "cell_type": "code",
   "execution_count": 76,
   "id": "adb0926a",
   "metadata": {},
   "outputs": [],
   "source": [
    "scoring_rf_ts = {'accuracy' : make_scorer(accuracy_score), \n",
    "                 'precision' : make_scorer(precision_score),\n",
    "                 'recall' : make_scorer(recall_score), \n",
    "                 'f1_score' : make_scorer(f1_score)}"
   ]
  },
  {
   "cell_type": "code",
   "execution_count": 77,
   "id": "31cebbbb",
   "metadata": {},
   "outputs": [],
   "source": [
    "kfold_rf_ts = model_selection.KFold(n_splits=5,shuffle=True, random_state=10)\n",
    "model_rf_ts = RandomForestClassifier(n_estimators=50) \n",
    "\n",
    "results_rf_ts = model_selection.cross_validate(estimator=model_rf_ts,\n",
    "                                          X=X_test,\n",
    "                                          y=y_test,\n",
    "                                          cv=kfold_rf_ts,\n",
    "                                          scoring=scoring_rf_ts)"
   ]
  },
  {
   "cell_type": "code",
   "execution_count": 78,
   "id": "c495b385",
   "metadata": {},
   "outputs": [
    {
     "name": "stdout",
     "output_type": "stream",
     "text": [
      "5-Fold cross validation average accuracy on test set: 0.766\n"
     ]
    }
   ],
   "source": [
    "y_pred_rftest = model_selection.cross_val_predict(model_rf_ts, X_test, y_test, cv=kfold_rf_ts)\n",
    "y_pred_proba_rftest = model_selection.cross_val_predict(model_rf_ts, X_test, y_test, cv=kfold_rf_ts, method='predict_proba')\n",
    "print(\"5-Fold cross validation average accuracy on test set: %.3f\" %(np.mean(results_rf_ts['test_accuracy'])))"
   ]
  },
  {
   "cell_type": "code",
   "execution_count": 79,
   "id": "7efa905a",
   "metadata": {},
   "outputs": [],
   "source": [
    "# y_pred_rftest"
   ]
  },
  {
   "cell_type": "code",
   "execution_count": 80,
   "id": "80fd5184",
   "metadata": {},
   "outputs": [
    {
     "data": {
      "text/plain": [
       "<AxesSubplot:>"
      ]
     },
     "execution_count": 80,
     "metadata": {},
     "output_type": "execute_result"
    },
    {
     "data": {
      "text/plain": [
       "Text(33.0, 0.5, 'True class')"
      ]
     },
     "execution_count": 80,
     "metadata": {},
     "output_type": "execute_result"
    },
    {
     "data": {
      "text/plain": [
       "Text(0.5, 15.0, 'Predicted class')"
      ]
     },
     "execution_count": 80,
     "metadata": {},
     "output_type": "execute_result"
    },
    {
     "data": {
      "text/plain": [
       "Text(0.5, 1.0, 'Random Forest')"
      ]
     },
     "execution_count": 80,
     "metadata": {},
     "output_type": "execute_result"
    },
    {
     "data": {
      "image/png": "[encoded data removed]",
      "text/plain": [
       "<Figure size 432x288 with 2 Axes>"
      ]
     },
     "metadata": {
      "needs_background": "light"
     },
     "output_type": "display_data"
    }
   ],
   "source": [
    "forest_cm = metrics.confusion_matrix(y_pred_rftest, y_test, [1,0])\n",
    "sns.heatmap(forest_cm, annot=True, fmt='.2f',xticklabels = [\"Violation\", \"Non-Violation\"] , yticklabels = [\"Violation\", \"Non-Violation\"] )\n",
    "plt.ylabel('True class')\n",
    "plt.xlabel('Predicted class')\n",
    "plt.title('Random Forest')\n",
    "plt.savefig('RF_CM')"
   ]
  },
  {
   "cell_type": "code",
   "execution_count": 81,
   "id": "758b61b8",
   "metadata": {},
   "outputs": [
    {
     "name": "stdout",
     "output_type": "stream",
     "text": [
      "              precision    recall  f1-score   support\n",
      "\n",
      "           0       0.79      0.94      0.86       297\n",
      "           1       0.63      0.28      0.39       104\n",
      "\n",
      "    accuracy                           0.77       401\n",
      "   macro avg       0.71      0.61      0.62       401\n",
      "weighted avg       0.75      0.77      0.74       401\n",
      "\n",
      "Accuracy:  0.765679012345679\n",
      "Precision:  0.5680652680652681\n",
      "Recall:  0.30624317711274235\n",
      "F1 Score:  0.38725490196078427\n"
     ]
    }
   ],
   "source": [
    "print(classification_report(y_test,y_pred_rftest))\n",
    "print(\"Accuracy: \",np.mean(results_rf_ts['test_accuracy']))\n",
    "print(\"Precision: \",np.mean(results_rf_ts['test_precision']))\n",
    "print(\"Recall: \",np.mean(results_rf_ts['test_recall']))\n",
    "print(\"F1 Score: \",np.mean(results_rf_ts['test_f1_score']))"
   ]
  },
  {
   "cell_type": "markdown",
   "id": "dd9d2011",
   "metadata": {},
   "source": [
    "# Support Vector Machine"
   ]
  },
  {
   "cell_type": "code",
   "execution_count": 82,
   "id": "148c97ba",
   "metadata": {},
   "outputs": [
    {
     "data": {
      "text/plain": [
       "SVC()"
      ]
     },
     "execution_count": 82,
     "metadata": {},
     "output_type": "execute_result"
    },
    {
     "name": "stdout",
     "output_type": "stream",
     "text": [
      "Accuracy of Support Vector Machine Classifier on train set: 0.74\n",
      "Accuracy of Support Vector Machine Classifier on test set: 0.74\n"
     ]
    }
   ],
   "source": [
    "from sklearn.svm import SVC\n",
    "svc = SVC()\n",
    "svc.fit(X_train,y_train)\n",
    "print(\"Accuracy of Support Vector Machine Classifier on train set: {:.2f}\".format(svc.score(X_train,y_train)))\n",
    "print(\"Accuracy of Support Vector Machine Classifier on test set: {:.2f}\".format(svc.score(X_test,y_test)))"
   ]
  },
  {
   "cell_type": "markdown",
   "id": "5fd2d933",
   "metadata": {},
   "source": [
    "# Cross Validation"
   ]
  },
  {
   "cell_type": "code",
   "execution_count": 83,
   "id": "cac1f1a9",
   "metadata": {},
   "outputs": [],
   "source": [
    "scoring_svm_tr = {'accuracy' : make_scorer(accuracy_score), \n",
    "                  'precision' : make_scorer(precision_score),\n",
    "                  'recall' : make_scorer(recall_score), \n",
    "                  'f1_score' : make_scorer(f1_score)}\n",
    "\n",
    "kfold_svm_tr = model_selection.KFold(n_splits=5,shuffle=True, random_state=7)\n",
    "model_svm_tr = SVC() "
   ]
  },
  {
   "cell_type": "code",
   "execution_count": 84,
   "id": "986ca46c",
   "metadata": {},
   "outputs": [
    {
     "name": "stdout",
     "output_type": "stream",
     "text": [
      "5-Fold cross validation average accuracy on train set: 0.743\n"
     ]
    }
   ],
   "source": [
    "results_svm_tr = model_selection.cross_validate(estimator=model_svm_tr,\n",
    "                                          X=X_train,\n",
    "                                          y=y_train,\n",
    "                                          cv=kfold_svm_tr,\n",
    "                                          scoring=scoring_svm_tr)\n",
    "\n",
    "y_pred_svtrain = model_selection.cross_val_predict(model_svm_tr, X_train, y_train, cv=kfold_svm_tr)\n",
    "print(\"5-Fold cross validation average accuracy on train set: %.3f\" %(np.mean(results_svm_tr['test_accuracy'])))"
   ]
  },
  {
   "cell_type": "code",
   "execution_count": 85,
   "id": "5f2f244f",
   "metadata": {},
   "outputs": [],
   "source": [
    "scoring_svm_ts = {'accuracy' : make_scorer(accuracy_score), \n",
    "                  'precision' : make_scorer(precision_score),\n",
    "                  'recall' : make_scorer(recall_score), \n",
    "                  'f1_score' : make_scorer(f1_score)}\n",
    "\n",
    "kfold_svm_ts = model_selection.KFold(n_splits=5,shuffle=True,random_state=7)\n",
    "model_svm_ts = SVC() "
   ]
  },
  {
   "cell_type": "code",
   "execution_count": 86,
   "id": "8fb791d5",
   "metadata": {},
   "outputs": [
    {
     "name": "stdout",
     "output_type": "stream",
     "text": [
      "5-Fold cross validation average accuracy on test set: 0.741\n"
     ]
    }
   ],
   "source": [
    "results_svm_ts = model_selection.cross_validate(estimator=model_svm_ts,\n",
    "                                          X=X_test,\n",
    "                                          y=y_test,\n",
    "                                          cv=kfold_svm_ts,\n",
    "                                          scoring=scoring_svm_ts)\n",
    "\n",
    "y_pred_svtest = model_selection.cross_val_predict(model_svm_ts, X_test, y_test, cv=kfold_svm_ts)\n",
    "print(\"5-Fold cross validation average accuracy on test set: %.3f\" %(np.mean(results_svm_ts['test_accuracy'])))"
   ]
  },
  {
   "cell_type": "code",
   "execution_count": 87,
   "id": "a9f27e79",
   "metadata": {},
   "outputs": [
    {
     "data": {
      "text/plain": [
       "<AxesSubplot:>"
      ]
     },
     "execution_count": 87,
     "metadata": {},
     "output_type": "execute_result"
    },
    {
     "data": {
      "text/plain": [
       "Text(33.0, 0.5, 'True class')"
      ]
     },
     "execution_count": 87,
     "metadata": {},
     "output_type": "execute_result"
    },
    {
     "data": {
      "text/plain": [
       "Text(0.5, 15.0, 'Predicted class')"
      ]
     },
     "execution_count": 87,
     "metadata": {},
     "output_type": "execute_result"
    },
    {
     "data": {
      "text/plain": [
       "Text(0.5, 1.0, 'Support Vector Machine')"
      ]
     },
     "execution_count": 87,
     "metadata": {},
     "output_type": "execute_result"
    },
    {
     "data": {
      "image/png": "[encoded data removed]",
      "text/plain": [
       "<Figure size 432x288 with 2 Axes>"
      ]
     },
     "metadata": {
      "needs_background": "light"
     },
     "output_type": "display_data"
    }
   ],
   "source": [
    "svm_cm = metrics.confusion_matrix(y_pred_svtest, y_test, [1,0])\n",
    "sns.heatmap(svm_cm, annot=True, fmt='.2f',xticklabels = [\"Violation\", \"Non-Violation\"] , yticklabels = [\"Violation\", \"Non-Violation\"] )\n",
    "plt.ylabel('True class')\n",
    "plt.xlabel('Predicted class')\n",
    "plt.title('Support Vector Machine')"
   ]
  },
  {
   "cell_type": "code",
   "execution_count": 88,
   "id": "9d138b20",
   "metadata": {},
   "outputs": [
    {
     "name": "stdout",
     "output_type": "stream",
     "text": [
      "              precision    recall  f1-score   support\n",
      "\n",
      "           0       0.74      1.00      0.85       297\n",
      "           1       0.00      0.00      0.00       104\n",
      "\n",
      "    accuracy                           0.74       401\n",
      "   macro avg       0.37      0.50      0.43       401\n",
      "weighted avg       0.55      0.74      0.63       401\n",
      "\n",
      "Accuracy:  0.7405864197530865\n",
      "Precision:  0.0\n",
      "Recall:  0.0\n",
      "F1 Score:  0.0\n"
     ]
    }
   ],
   "source": [
    "print(classification_report(y_test,y_pred_svtest))\n",
    "print(\"Accuracy: \",np.mean(results_svm_ts['test_accuracy']))\n",
    "print(\"Precision: \",np.mean(results_svm_ts['test_precision']))\n",
    "print(\"Recall: \",np.mean(results_svm_ts['test_recall']))\n",
    "print(\"F1 Score: \",np.mean(results_svm_ts['test_f1_score']))"
   ]
  },
  {
   "cell_type": "markdown",
   "id": "96adf4e4",
   "metadata": {},
   "source": [
    "# Gradient Boosting"
   ]
  },
  {
   "cell_type": "code",
   "execution_count": 89,
   "id": "f270f3ef",
   "metadata": {},
   "outputs": [
    {
     "data": {
      "text/plain": [
       "GradientBoostingClassifier()"
      ]
     },
     "execution_count": 89,
     "metadata": {},
     "output_type": "execute_result"
    }
   ],
   "source": [
    "from sklearn.ensemble import GradientBoostingClassifier\n",
    "gb = GradientBoostingClassifier()\n",
    "gb.fit(X_train, y_train)"
   ]
  },
  {
   "cell_type": "code",
   "execution_count": 90,
   "id": "92046e9d",
   "metadata": {},
   "outputs": [
    {
     "name": "stdout",
     "output_type": "stream",
     "text": [
      "Accuracy of Gradient Boosting Classifier on train set: 0.93\n",
      "Accuracy of Gradient Boosting Classifier on test set: 0.78\n"
     ]
    }
   ],
   "source": [
    "print(\"Accuracy of Gradient Boosting Classifier on train set: {:.2f}\".format(gb.score(X_train,y_train)))\n",
    "print(\"Accuracy of Gradient Boosting Classifier on test set: {:.2f}\".format(gb.score(X_test,y_test)))"
   ]
  },
  {
   "cell_type": "markdown",
   "id": "0815f42d",
   "metadata": {},
   "source": [
    "# Cross Validation"
   ]
  },
  {
   "cell_type": "code",
   "execution_count": 91,
   "id": "1f006b4f",
   "metadata": {},
   "outputs": [],
   "source": [
    "scoring_gb_tr = {'accuracy' : make_scorer(accuracy_score), \n",
    "                 'precision' : make_scorer(precision_score),\n",
    "                 'recall' : make_scorer(recall_score), \n",
    "                 'f1_score' : make_scorer(f1_score)}\n",
    "\n",
    "kfold_gb_tr = model_selection.KFold(n_splits=5,shuffle=True,random_state=7)\n",
    "model_gb_tr = GradientBoostingClassifier() \n"
   ]
  },
  {
   "cell_type": "code",
   "execution_count": 92,
   "id": "4eb2f75b",
   "metadata": {},
   "outputs": [
    {
     "name": "stdout",
     "output_type": "stream",
     "text": [
      "5-Fold cross validation average accuracy on train set: 0.813\n"
     ]
    }
   ],
   "source": [
    "results_gb_tr = model_selection.cross_validate(estimator=model_gb_tr,\n",
    "                                          X=X_train,\n",
    "                                          y=y_train,\n",
    "                                          cv=kfold_gb_tr,\n",
    "                                          scoring=scoring_gb_tr)\n",
    "\n",
    "y_pred_gbtrain = model_selection.cross_val_predict(model_gb_tr, X_train, y_train, cv=kfold_gb_tr)\n",
    "print(\"5-Fold cross validation average accuracy on train set: %.3f\" %(np.mean(results_gb_tr['test_accuracy'])))"
   ]
  },
  {
   "cell_type": "code",
   "execution_count": 93,
   "id": "8837efc3",
   "metadata": {},
   "outputs": [],
   "source": [
    "scoring_gb_ts = {'accuracy' : make_scorer(accuracy_score), \n",
    "                 'precision' : make_scorer(precision_score),\n",
    "                 'recall' : make_scorer(recall_score), \n",
    "                 'f1_score' : make_scorer(f1_score)}\n",
    "\n",
    "kfold_gb_ts = model_selection.KFold(n_splits=5,shuffle=True,random_state=7)\n",
    "model_gb_ts = GradientBoostingClassifier()  \n"
   ]
  },
  {
   "cell_type": "code",
   "execution_count": 94,
   "id": "e6963eef",
   "metadata": {},
   "outputs": [
    {
     "name": "stdout",
     "output_type": "stream",
     "text": [
      "5-Fold cross validation average accuracy on test set: 0.753\n"
     ]
    }
   ],
   "source": [
    "results_gb_ts = model_selection.cross_validate(estimator=model_gb_ts,\n",
    "                                          X=X_test,\n",
    "                                          y=y_test,\n",
    "                                          cv=kfold_gb_ts,\n",
    "                                          scoring=scoring_gb_ts)\n",
    "\n",
    "y_pred_gbtest = model_selection.cross_val_predict(model_gb_ts, X_test, y_test, cv=kfold_gb_ts)\n",
    "y_pred_proba_gbtest = model_selection.cross_val_predict(model_gb_ts, X_test, y_test, cv=kfold_gb_ts, method='predict_proba')\n",
    "print(\"5-Fold cross validation average accuracy on test set: %.3f\" %(np.mean(results_gb_ts['test_accuracy'])))"
   ]
  },
  {
   "cell_type": "code",
   "execution_count": 95,
   "id": "0185451d",
   "metadata": {},
   "outputs": [
    {
     "data": {
      "text/plain": [
       "<AxesSubplot:>"
      ]
     },
     "execution_count": 95,
     "metadata": {},
     "output_type": "execute_result"
    },
    {
     "data": {
      "text/plain": [
       "Text(33.0, 0.5, 'True class')"
      ]
     },
     "execution_count": 95,
     "metadata": {},
     "output_type": "execute_result"
    },
    {
     "data": {
      "text/plain": [
       "Text(0.5, 15.0, 'Predicted class')"
      ]
     },
     "execution_count": 95,
     "metadata": {},
     "output_type": "execute_result"
    },
    {
     "data": {
      "text/plain": [
       "Text(0.5, 1.0, 'Gradient Boosting')"
      ]
     },
     "execution_count": 95,
     "metadata": {},
     "output_type": "execute_result"
    },
    {
     "data": {
      "image/png": "[encoded data removed]",
      "text/plain": [
       "<Figure size 432x288 with 2 Axes>"
      ]
     },
     "metadata": {
      "needs_background": "light"
     },
     "output_type": "display_data"
    }
   ],
   "source": [
    "gb_cm = metrics.confusion_matrix(y_pred_gbtest, y_test, [1,0])\n",
    "sns.heatmap(svm_cm, annot=True, fmt='.2f',xticklabels = [\"Violation\", \"Non-Violation\"] , yticklabels = [\"Violation\", \"Non-Violation\"] )\n",
    "plt.ylabel('True class')\n",
    "plt.xlabel('Predicted class')\n",
    "plt.title('Gradient Boosting')\n",
    "plt.savefig('GB_CM')"
   ]
  },
  {
   "cell_type": "code",
   "execution_count": 96,
   "id": "51dcc080",
   "metadata": {},
   "outputs": [
    {
     "name": "stdout",
     "output_type": "stream",
     "text": [
      "              precision    recall  f1-score   support\n",
      "\n",
      "           0       0.80      0.89      0.84       297\n",
      "           1       0.53      0.38      0.44       104\n",
      "\n",
      "    accuracy                           0.75       401\n",
      "   macro avg       0.67      0.63      0.64       401\n",
      "weighted avg       0.73      0.75      0.74       401\n",
      "\n",
      "Accuracy:  0.7530246913580247\n",
      "Precision:  0.5308913308913309\n",
      "Recall:  0.37594439481638303\n",
      "F1 Score:  0.4356648377701009\n"
     ]
    }
   ],
   "source": [
    "print(classification_report(y_test,y_pred_gbtest))\n",
    "print(\"Accuracy: \",np.mean(results_gb_ts['test_accuracy']))\n",
    "print(\"Precision: \",np.mean(results_gb_ts['test_precision']))\n",
    "print(\"Recall: \",np.mean(results_gb_ts['test_recall']))\n",
    "print(\"F1 Score: \",np.mean(results_gb_ts['test_f1_score']))"
   ]
  },
  {
   "cell_type": "code",
   "execution_count": 97,
   "id": "4e7c57f4",
   "metadata": {},
   "outputs": [
    {
     "data": {
      "text/plain": [
       "<Figure size 576x432 with 0 Axes>"
      ]
     },
     "execution_count": 97,
     "metadata": {},
     "output_type": "execute_result"
    },
    {
     "data": {
      "text/plain": [
       "[<matplotlib.lines.Line2D at 0x286547d4190>]"
      ]
     },
     "execution_count": 97,
     "metadata": {},
     "output_type": "execute_result"
    },
    {
     "data": {
      "text/plain": [
       "[<matplotlib.lines.Line2D at 0x286547d45b0>]"
      ]
     },
     "execution_count": 97,
     "metadata": {},
     "output_type": "execute_result"
    },
    {
     "data": {
      "text/plain": [
       "[<matplotlib.lines.Line2D at 0x286547d49a0>]"
      ]
     },
     "execution_count": 97,
     "metadata": {},
     "output_type": "execute_result"
    },
    {
     "data": {
      "text/plain": [
       "[<matplotlib.lines.Line2D at 0x286547d43d0>]"
      ]
     },
     "execution_count": 97,
     "metadata": {},
     "output_type": "execute_result"
    },
    {
     "data": {
      "text/plain": [
       "[<matplotlib.lines.Line2D at 0x286547d4fd0>]"
      ]
     },
     "execution_count": 97,
     "metadata": {},
     "output_type": "execute_result"
    },
    {
     "data": {
      "text/plain": [
       "[<matplotlib.lines.Line2D at 0x286547d9430>,\n",
       " <matplotlib.lines.Line2D at 0x286547d9130>]"
      ]
     },
     "execution_count": 97,
     "metadata": {},
     "output_type": "execute_result"
    },
    {
     "data": {
      "text/plain": [
       "(0.0, 1.0)"
      ]
     },
     "execution_count": 97,
     "metadata": {},
     "output_type": "execute_result"
    },
    {
     "data": {
      "text/plain": [
       "(0.0, 1.05)"
      ]
     },
     "execution_count": 97,
     "metadata": {},
     "output_type": "execute_result"
    },
    {
     "data": {
      "text/plain": [
       "Text(0.5, 0, 'False Positive Rate')"
      ]
     },
     "execution_count": 97,
     "metadata": {},
     "output_type": "execute_result"
    },
    {
     "data": {
      "text/plain": [
       "Text(0, 0.5, 'True Positive Rate')"
      ]
     },
     "execution_count": 97,
     "metadata": {},
     "output_type": "execute_result"
    },
    {
     "data": {
      "text/plain": [
       "Text(0.5, 1.0, 'Receiver Operating Characteristic')"
      ]
     },
     "execution_count": 97,
     "metadata": {},
     "output_type": "execute_result"
    },
    {
     "data": {
      "text/plain": [
       "<matplotlib.legend.Legend at 0x286547d4df0>"
      ]
     },
     "execution_count": 97,
     "metadata": {},
     "output_type": "execute_result"
    },
    {
     "data": {
      "image/png": "[encoded data removed]",
      "text/plain": [
       "<Figure size 576x432 with 1 Axes>"
      ]
     },
     "metadata": {
      "needs_background": "light"
     },
     "output_type": "display_data"
    }
   ],
   "source": [
    "#ROC Curve\n",
    "from sklearn.metrics import roc_auc_score\n",
    "from sklearn.metrics import roc_curve\n",
    "\n",
    "#Logitic regression\n",
    "logit_roc_auc = roc_auc_score(y_test, y_pred_test)\n",
    "fpr,tpr,thresholds = roc_curve(y_test, Logreg.predict_proba(X_test)[:,1])\n",
    "\n",
    "#Random Forest\n",
    "rf_roc_auc = roc_auc_score(y_test, y_pred_rftest)\n",
    "rf_fpr, rf_tpr, rf_thresholds = roc_curve(y_test, y_pred_proba_rftest[:,1])\n",
    "\n",
    "#KNN\n",
    "knn_roc_auc = roc_auc_score(y_test, knn.predict(X_test))\n",
    "knn_fpr, knn_tpr, knn_thresholds = roc_curve(y_test, knn.predict_proba(X_test)[:,1])\n",
    "\n",
    "#GaussianNB\n",
    "gnb_roc_auc = roc_auc_score(y_test, gnb.predict(X_test))\n",
    "gnb_fpr, gnb_tpr, gnb_thresholds = roc_curve(y_test, gnb.predict_proba(X_test)[:,1])\n",
    "\n",
    "#svc_roc_auc = roc_auc_score(y_test, svc.predict(X_test))\n",
    "#svc_fpr, svc_tpr, svc_thresholds = roc_curve(y_test, svc.predict_proba(X_test)[:,1])\n",
    "\n",
    "#Gradient Boosting\n",
    "gb_roc_auc = roc_auc_score(y_test,y_pred_gbtest)\n",
    "gb_fpr, gb_tpr, gb_thresholds = roc_curve(y_test, y_pred_proba_gbtest[:,1])\n",
    "\n",
    "plt.figure(figsize = (8,6))\n",
    "plt.plot(fpr,tpr,label='Logistic Regression (area = %0.2f)' %logit_roc_auc)\n",
    "plt.plot(rf_fpr,rf_tpr,label='Random Forest (area = %0.2f)' %rf_roc_auc)\n",
    "plt.plot(knn_fpr,knn_tpr,label='KNN (area = %0.2f)' %knn_roc_auc)\n",
    "plt.plot(gnb_fpr,gnb_tpr,label='Naive Bayes (area = %0.2f)' %gnb_roc_auc)\n",
    "#plt.plot(svc_fpr,svc_tpr,label='SVM (area = %0.2f)' %svc_roc_auc)\n",
    "plt.plot(gb_fpr,gb_tpr,label='Gradient Boosting (area = %0.2f)' %gb_roc_auc)\n",
    "plt.plot([0,1],[0,1],['r--'])\n",
    "plt.xlim([0.0,1.0])\n",
    "plt.ylim([0.0,1.05])\n",
    "plt.xlabel('False Positive Rate')\n",
    "plt.ylabel('True Positive Rate')\n",
    "plt.title('Receiver Operating Characteristic')\n",
    "plt.legend(loc='lower right')\n",
    "plt.savefig('ROC')\n",
    "plt.show()"
   ]
  },
  {
   "cell_type": "code",
   "execution_count": 98,
   "id": "2358b690",
   "metadata": {},
   "outputs": [
    {
     "data": {
      "text/plain": [
       "<Figure size 576x432 with 0 Axes>"
      ]
     },
     "execution_count": 98,
     "metadata": {},
     "output_type": "execute_result"
    },
    {
     "data": {
      "text/plain": [
       "[<matplotlib.lines.Line2D at 0x28654843f10>]"
      ]
     },
     "execution_count": 98,
     "metadata": {},
     "output_type": "execute_result"
    },
    {
     "data": {
      "text/plain": [
       "[<matplotlib.lines.Line2D at 0x28654852430>]"
      ]
     },
     "execution_count": 98,
     "metadata": {},
     "output_type": "execute_result"
    },
    {
     "data": {
      "text/plain": [
       "[<matplotlib.lines.Line2D at 0x28654852220>]"
      ]
     },
     "execution_count": 98,
     "metadata": {},
     "output_type": "execute_result"
    },
    {
     "data": {
      "text/plain": [
       "[<matplotlib.lines.Line2D at 0x28654852a60>]"
      ]
     },
     "execution_count": 98,
     "metadata": {},
     "output_type": "execute_result"
    },
    {
     "data": {
      "text/plain": [
       "[<matplotlib.lines.Line2D at 0x28654852d90>]"
      ]
     },
     "execution_count": 98,
     "metadata": {},
     "output_type": "execute_result"
    },
    {
     "data": {
      "text/plain": [
       "[<matplotlib.lines.Line2D at 0x28654869070>,\n",
       " <matplotlib.lines.Line2D at 0x28654869250>]"
      ]
     },
     "execution_count": 98,
     "metadata": {},
     "output_type": "execute_result"
    },
    {
     "data": {
      "text/plain": [
       "(0.0, 1.0)"
      ]
     },
     "execution_count": 98,
     "metadata": {},
     "output_type": "execute_result"
    },
    {
     "data": {
      "text/plain": [
       "(0.0, 1.05)"
      ]
     },
     "execution_count": 98,
     "metadata": {},
     "output_type": "execute_result"
    },
    {
     "data": {
      "text/plain": [
       "Text(0.5, 0, 'False Positive Rate')"
      ]
     },
     "execution_count": 98,
     "metadata": {},
     "output_type": "execute_result"
    },
    {
     "data": {
      "text/plain": [
       "Text(0, 0.5, 'True Positive Rate')"
      ]
     },
     "execution_count": 98,
     "metadata": {},
     "output_type": "execute_result"
    },
    {
     "data": {
      "text/plain": [
       "Text(0.5, 1.0, 'Receiver Operating Characteristic')"
      ]
     },
     "execution_count": 98,
     "metadata": {},
     "output_type": "execute_result"
    },
    {
     "data": {
      "text/plain": [
       "<matplotlib.legend.Legend at 0x286548699a0>"
      ]
     },
     "execution_count": 98,
     "metadata": {},
     "output_type": "execute_result"
    },
    {
     "data": {
      "image/png": "[encoded data removed]",
      "text/plain": [
       "<Figure size 576x432 with 1 Axes>"
      ]
     },
     "metadata": {
      "needs_background": "light"
     },
     "output_type": "display_data"
    }
   ],
   "source": [
    "#ROC Curve\n",
    "from sklearn.metrics import roc_auc_score\n",
    "from sklearn.metrics import roc_curve\n",
    "\n",
    "logit_roc_auc = roc_auc_score(y_train, y_pred_train)\n",
    "fpr,tpr,thresholds = roc_curve(y_train, Logreg.predict_proba(X_train)[:,1])\n",
    "\n",
    "rf_roc_auc = roc_auc_score(y_train, y_pred_rftrain )\n",
    "rf_fpr, rf_tpr, rf_thresholds = roc_curve(y_train,y_pred_rftrain )\n",
    "\n",
    "knn_roc_auc = roc_auc_score(y_train, knn.predict(X_train))\n",
    "knn_fpr, knn_tpr, knn_thresholds = roc_curve(y_train, knn.predict_proba(X_train)[:,1])\n",
    "\n",
    "gnb_roc_auc = roc_auc_score(y_train, gnb.predict(X_train))\n",
    "gnb_fpr, gnb_tpr, gnb_thresholds = roc_curve(y_train, gnb.predict_proba(X_train)[:,1])\n",
    "\n",
    "# svc_roc_auc = roc_auc_score(y_train, svc.predict(X_train))\n",
    "# svc_fpr, svc_tpr, svc_thresholds = roc_curve(y_train, svc.predict_proba(X_train)[:,1])\n",
    "\n",
    "gb_roc_auc = roc_auc_score(y_train, y_pred_gbtrain)\n",
    "gb_fpr, gb_tpr, gb_thresholds = roc_curve(y_train, y_pred_gbtrain)\n",
    "\n",
    "plt.figure(figsize = (8,6))\n",
    "plt.plot(fpr,tpr,label='Logistic Regression (area = %0.2f)' %logit_roc_auc)\n",
    "plt.plot(rf_fpr,rf_tpr,label='Random Forest (area = %0.2f)' %rf_roc_auc)\n",
    "plt.plot(knn_fpr,knn_tpr,label='KNN (area = %0.2f)' %knn_roc_auc)\n",
    "plt.plot(gnb_fpr,gnb_tpr,label='Naive Bayes (area = %0.2f)' %gnb_roc_auc)\n",
    "# plt.plot(svc_fpr,svc_tpr,label='SVM (area = %0.2f)' %svc_roc_auc)\n",
    "plt.plot(gb_fpr,gb_tpr,label='Gradient Boosting (area = %0.2f)' %gb_roc_auc)\n",
    "plt.plot([0,1],[0,1],['r--'])\n",
    "plt.xlim([0.0,1.0])\n",
    "plt.ylim([0.0,1.05])\n",
    "plt.xlabel('False Positive Rate')\n",
    "plt.ylabel('True Positive Rate')\n",
    "plt.title('Receiver Operating Characteristic')\n",
    "plt.legend(loc='lower right')\n",
    "plt.savefig('ROC')\n",
    "plt.show()"
   ]
  },
  {
   "cell_type": "code",
   "execution_count": null,
   "id": "2855df71",
   "metadata": {},
   "outputs": [],
   "source": []
  },
  {
   "cell_type": "code",
   "execution_count": null,
   "id": "3b41b610",
   "metadata": {},
   "outputs": [],
   "source": []
  },
  {
   "cell_type": "code",
   "execution_count": null,
   "id": "89dbc877",
   "metadata": {},
   "outputs": [],
   "source": []
  },
  {
   "cell_type": "code",
   "execution_count": null,
   "id": "31451eea",
   "metadata": {},
   "outputs": [],
   "source": []
  },
  {
   "cell_type": "code",
   "execution_count": null,
   "id": "b1a965ea",
   "metadata": {},
   "outputs": [],
   "source": []
  },
  {
   "cell_type": "code",
   "execution_count": null,
   "id": "78dec15a",
   "metadata": {},
   "outputs": [],
   "source": []
  },
  {
   "cell_type": "code",
   "execution_count": null,
   "id": "56e5960d",
   "metadata": {},
   "outputs": [],
   "source": []
  }
 ],
 "metadata": {
  "kernelspec": {
   "display_name": "Python 3",
   "language": "python",
   "name": "python3"
  },
  "language_info": {
   "codemirror_mode": {
    "name": "ipython",
    "version": 3
   },
   "file_extension": ".py",
   "mimetype": "text/x-python",
   "name": "python",
   "nbconvert_exporter": "python",
   "pygments_lexer": "ipython3",
   "version": "3.8.8"
  }
 },
 "nbformat": 4,
 "nbformat_minor": 5
}
